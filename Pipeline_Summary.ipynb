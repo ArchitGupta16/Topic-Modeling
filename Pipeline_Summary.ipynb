{
  "cells": [
    {
      "cell_type": "markdown",
      "metadata": {
        "id": "view-in-github",
        "colab_type": "text"
      },
      "source": [
        "<a href=\"https://colab.research.google.com/github/ArchitGupta16/Topic-Modeling/blob/main/Pipeline_Summary.ipynb\" target=\"_parent\"><img src=\"https://colab.research.google.com/assets/colab-badge.svg\" alt=\"Open In Colab\"/></a>"
      ]
    },
    {
      "cell_type": "code",
      "execution_count": null,
      "metadata": {
        "id": "zVa_dg6iB_B4"
      },
      "outputs": [],
      "source": [
        "#@title Data And Packakges\n",
        "from sklearn.datasets import fetch_20newsgroups\n",
        "# cats = ['sci.space']\n",
        "data = fetch_20newsgroups(subset='all')['data']"
      ]
    },
    {
      "cell_type": "code",
      "source": [
        "print(data[29])"
      ],
      "metadata": {
        "id": "My-DRd15jLqa"
      },
      "execution_count": null,
      "outputs": []
    },
    {
      "cell_type": "code",
      "execution_count": null,
      "metadata": {
        "colab": {
          "background_save": true
        },
        "id": "fp3-1YSHZ23l",
        "outputId": "8b355a6d-08e9-49d7-a0da-ac338d5a8b3e"
      },
      "outputs": [
        {
          "data": {
            "text/plain": [
              "18846"
            ]
          },
          "execution_count": 2,
          "metadata": {},
          "output_type": "execute_result"
        }
      ],
      "source": [
        "len(data)"
      ]
    },
    {
      "cell_type": "code",
      "execution_count": null,
      "metadata": {
        "colab": {
          "base_uri": "https://localhost:8080/"
        },
        "id": "ddDDlbxbsJX2",
        "outputId": "01a404cd-c702-4daa-e907-4ee3dadc6e17"
      },
      "outputs": [
        {
          "output_type": "stream",
          "name": "stdout",
          "text": [
            "Looking in indexes: https://pypi.org/simple, https://us-python.pkg.dev/colab-wheels/public/simple/\n",
            "Collecting transformers\n",
            "  Downloading transformers-4.29.2-py3-none-any.whl (7.1 MB)\n",
            "\u001b[2K     \u001b[90m━━━━━━━━━━━━━━━━━━━━━━━━━━━━━━━━━━━━━━━━\u001b[0m \u001b[32m7.1/7.1 MB\u001b[0m \u001b[31m64.7 MB/s\u001b[0m eta \u001b[36m0:00:00\u001b[0m\n",
            "\u001b[?25hRequirement already satisfied: filelock in /usr/local/lib/python3.10/dist-packages (from transformers) (3.12.0)\n",
            "Collecting huggingface-hub<1.0,>=0.14.1 (from transformers)\n",
            "  Downloading huggingface_hub-0.14.1-py3-none-any.whl (224 kB)\n",
            "\u001b[2K     \u001b[90m━━━━━━━━━━━━━━━━━━━━━━━━━━━━━━━━━━━━━━\u001b[0m \u001b[32m224.5/224.5 kB\u001b[0m \u001b[31m27.6 MB/s\u001b[0m eta \u001b[36m0:00:00\u001b[0m\n",
            "\u001b[?25hRequirement already satisfied: numpy>=1.17 in /usr/local/lib/python3.10/dist-packages (from transformers) (1.22.4)\n",
            "Requirement already satisfied: packaging>=20.0 in /usr/local/lib/python3.10/dist-packages (from transformers) (23.1)\n",
            "Requirement already satisfied: pyyaml>=5.1 in /usr/local/lib/python3.10/dist-packages (from transformers) (6.0)\n",
            "Requirement already satisfied: regex!=2019.12.17 in /usr/local/lib/python3.10/dist-packages (from transformers) (2022.10.31)\n",
            "Requirement already satisfied: requests in /usr/local/lib/python3.10/dist-packages (from transformers) (2.27.1)\n",
            "Collecting tokenizers!=0.11.3,<0.14,>=0.11.1 (from transformers)\n",
            "  Downloading tokenizers-0.13.3-cp310-cp310-manylinux_2_17_x86_64.manylinux2014_x86_64.whl (7.8 MB)\n",
            "\u001b[2K     \u001b[90m━━━━━━━━━━━━━━━━━━━━━━━━━━━━━━━━━━━━━━━━\u001b[0m \u001b[32m7.8/7.8 MB\u001b[0m \u001b[31m128.1 MB/s\u001b[0m eta \u001b[36m0:00:00\u001b[0m\n",
            "\u001b[?25hRequirement already satisfied: tqdm>=4.27 in /usr/local/lib/python3.10/dist-packages (from transformers) (4.65.0)\n",
            "Requirement already satisfied: fsspec in /usr/local/lib/python3.10/dist-packages (from huggingface-hub<1.0,>=0.14.1->transformers) (2023.4.0)\n",
            "Requirement already satisfied: typing-extensions>=3.7.4.3 in /usr/local/lib/python3.10/dist-packages (from huggingface-hub<1.0,>=0.14.1->transformers) (4.5.0)\n",
            "Requirement already satisfied: urllib3<1.27,>=1.21.1 in /usr/local/lib/python3.10/dist-packages (from requests->transformers) (1.26.15)\n",
            "Requirement already satisfied: certifi>=2017.4.17 in /usr/local/lib/python3.10/dist-packages (from requests->transformers) (2022.12.7)\n",
            "Requirement already satisfied: charset-normalizer~=2.0.0 in /usr/local/lib/python3.10/dist-packages (from requests->transformers) (2.0.12)\n",
            "Requirement already satisfied: idna<4,>=2.5 in /usr/local/lib/python3.10/dist-packages (from requests->transformers) (3.4)\n",
            "Installing collected packages: tokenizers, huggingface-hub, transformers\n",
            "Successfully installed huggingface-hub-0.14.1 tokenizers-0.13.3 transformers-4.29.2\n"
          ]
        }
      ],
      "source": [
        "!pip install transformers"
      ]
    },
    {
      "cell_type": "code",
      "execution_count": null,
      "metadata": {
        "id": "JhbXncBOrRvt"
      },
      "outputs": [],
      "source": [
        "#@title Summarization\n",
        "model_name = \"t5-base\"\n",
        "from transformers import AutoModelForSeq2SeqLM, AutoTokenizer\n",
        "model = AutoModelForSeq2SeqLM.from_pretrained(model_name)\n",
        "tokenizer = AutoTokenizer.from_pretrained(model_name)"
      ]
    },
    {
      "cell_type": "code",
      "execution_count": null,
      "metadata": {
        "id": "zsLi3nLEa1Uh"
      },
      "outputs": [],
      "source": [
        "from tqdm import tqdm\n"
      ]
    },
    {
      "cell_type": "code",
      "execution_count": null,
      "metadata": {
        "id": "uxAV_x5jqTdv"
      },
      "outputs": [],
      "source": [
        "final= [None]*len(data)"
      ]
    },
    {
      "cell_type": "code",
      "execution_count": null,
      "metadata": {
        "id": "WW3Z7aHYayqL"
      },
      "outputs": [],
      "source": [
        "copy = [None]*len(data)\n",
        "for i in range(0,len(data)):\n",
        "  copy[i] = data[i].split(\",From\")\n"
      ]
    },
    {
      "cell_type": "code",
      "execution_count": null,
      "metadata": {
        "id": "uQXGMMLXrT4l"
      },
      "outputs": [],
      "source": [
        "for i in tqdm(range(len(copy))):\n",
        "  tex=\"\"\n",
        "  if type(copy[i]) == list:\n",
        "    tex = ''.join([str(elem) for elem in copy[i]])\n",
        "  else:\n",
        "    tex = copy[i]\n",
        "  input_ids = tokenizer.encode(\"summarize: \" + tex, return_tensors=\"pt\", add_special_tokens=True)\n",
        "  generated_ids = model.generate(input_ids=input_ids,num_beams=5,max_length=100,repetition_penalty=2.5,length_penalty=1,early_stopping=True,num_return_sequences=1)\n",
        "  preds = [tokenizer.decode(g, skip_special_tokens=True, clean_up_tokenization_spaces=True) for g in generated_ids]\n",
        "  final[i]=preds\n",
        "  tex = \"\"\n"
      ]
    },
    {
      "cell_type": "code",
      "execution_count": null,
      "metadata": {
        "id": "7CS4kyR-AGb6"
      },
      "outputs": [],
      "source": [
        "flat_list = []\n",
        "for sublist in final:\n",
        "    for item in sublist:\n",
        "        flat_list.append(item)"
      ]
    },
    {
      "cell_type": "code",
      "execution_count": null,
      "metadata": {
        "colab": {
          "base_uri": "https://localhost:8080/"
        },
        "id": "XwKBiWeirWLN",
        "outputId": "7feb8078-7273-4339-ddeb-8edd095a57f3"
      },
      "outputs": [
        {
          "output_type": "stream",
          "name": "stdout",
          "text": [
            "Mounted at /content/gdrive\n"
          ]
        }
      ],
      "source": [
        "#@title Drive - for uploading summary\n",
        "from google.colab import drive\n",
        "drive.mount('/content/gdrive')"
      ]
    },
    {
      "cell_type": "code",
      "execution_count": null,
      "metadata": {
        "id": "OW4gJGKHulS9"
      },
      "outputs": [],
      "source": [
        "writeBook = open(\"/content/gdrive/MyDrive/Colab Notebooks/R&D/data.txt\", \"a\")"
      ]
    },
    {
      "cell_type": "code",
      "execution_count": null,
      "metadata": {
        "id": "kPFDwYenrjIU"
      },
      "outputs": [],
      "source": [
        "# cont = open(\"{}.txt\".format('data'), \"a\")\n",
        "for i in range(len(flat_list)):\n",
        "  writeBook.write(flat_list[i]+\"\\n\")"
      ]
    },
    {
      "cell_type": "code",
      "execution_count": null,
      "metadata": {
        "id": "NOEQgIFq26E-"
      },
      "outputs": [],
      "source": [
        "writeBook.close()\n",
        "# writeBook = open(\"{}.txt\".format('data'), \"w+\")"
      ]
    },
    {
      "cell_type": "code",
      "execution_count": null,
      "metadata": {
        "id": "4i4hY3DBGXQV"
      },
      "outputs": [],
      "source": [
        "#@title Summary Content from Drive\n",
        "inp = open(\"/content/gdrive/MyDrive/Colab Notebooks/R&D/0_11000.txt\", \"r\")\n"
      ]
    },
    {
      "cell_type": "code",
      "source": [
        "inp"
      ],
      "metadata": {
        "colab": {
          "base_uri": "https://localhost:8080/"
        },
        "id": "ikjTxnaasK2h",
        "outputId": "8dcaf392-35bb-4bfe-b538-855e77f3e5e8"
      },
      "execution_count": null,
      "outputs": [
        {
          "output_type": "execute_result",
          "data": {
            "text/plain": [
              "<_io.TextIOWrapper name='/content/gdrive/MyDrive/Colab Notebooks/R&D/0_11000.txt' mode='r' encoding='UTF-8'>"
            ]
          },
          "metadata": {},
          "execution_count": 4
        }
      ]
    },
    {
      "cell_type": "code",
      "execution_count": null,
      "metadata": {
        "id": "sEVhbevAHtj9"
      },
      "outputs": [],
      "source": [
        "l = []"
      ]
    },
    {
      "cell_type": "code",
      "execution_count": null,
      "metadata": {
        "colab": {
          "base_uri": "https://localhost:8080/"
        },
        "id": "5hInsTMQGdgh",
        "outputId": "daccc5a7-089e-43c7-aa9f-c7c715c3b5fb"
      },
      "outputs": [
        {
          "output_type": "stream",
          "name": "stdout",
          "text": [
            "1000\n"
          ]
        }
      ],
      "source": [
        "for line in inp.readlines():\n",
        "  l.append(line)\n",
        "l = l[:1000]\n",
        "l\n",
        "print(len(l))"
      ]
    },
    {
      "cell_type": "code",
      "execution_count": null,
      "metadata": {
        "id": "S_YRJG1z4__n"
      },
      "outputs": [],
      "source": [
        "data = copy"
      ]
    },
    {
      "cell_type": "code",
      "execution_count": null,
      "metadata": {
        "id": "VrTIYZkEDOW-"
      },
      "outputs": [],
      "source": [
        "#@title Library\n",
        "# !python -m pip install Pytorch\n",
        "# !python -m pip install SentenceTransformer\n",
        "!pip install -U sentence-transformers\n",
        "!pip install hdbscan"
      ]
    },
    {
      "cell_type": "code",
      "execution_count": null,
      "metadata": {
        "id": "1VluWhdWCSqT",
        "colab": {
          "base_uri": "https://localhost:8080/",
          "height": 395,
          "referenced_widgets": [
            "eec48668786c4c4c9aeaf22a9a2b0a41",
            "0e31bc3179104f74905f8dbefe12e3c1",
            "fe5eff99006347528a09533788cbcc5b",
            "daf8b6de3e654ae186b7643935b609e6",
            "13f10219236d427780fd33d109870e26",
            "4ef2fc105fd84234949d02e60f076101",
            "17d7b872329e41b1924dec38de4a3272",
            "30b361f522214e2ea4232ceb6f4f1c21",
            "8508b98fb073467b8580aab360e8a0fa",
            "e080b6d4a7354c58a6bec74d8e87e393",
            "e1aaeecf789c42c89fc99028a8ed8ef6"
          ]
        },
        "outputId": "bab71a18-4f64-415e-8422-1684492a89aa"
      },
      "outputs": [
        {
          "output_type": "display_data",
          "data": {
            "text/plain": [
              "Batches:   0%|          | 0/32 [00:00<?, ?it/s]"
            ],
            "application/vnd.jupyter.widget-view+json": {
              "version_major": 2,
              "version_minor": 0,
              "model_id": "eec48668786c4c4c9aeaf22a9a2b0a41"
            }
          },
          "metadata": {}
        },
        {
          "output_type": "error",
          "ename": "KeyboardInterrupt",
          "evalue": "ignored",
          "traceback": [
            "\u001b[0;31m---------------------------------------------------------------------------\u001b[0m",
            "\u001b[0;31mKeyboardInterrupt\u001b[0m                         Traceback (most recent call last)",
            "\u001b[0;32m<ipython-input-19-a1556456b5d9>\u001b[0m in \u001b[0;36m<cell line: 4>\u001b[0;34m()\u001b[0m\n\u001b[1;32m      2\u001b[0m \u001b[0;32mfrom\u001b[0m \u001b[0msentence_transformers\u001b[0m \u001b[0;32mimport\u001b[0m \u001b[0mSentenceTransformer\u001b[0m\u001b[0;34m\u001b[0m\u001b[0;34m\u001b[0m\u001b[0m\n\u001b[1;32m      3\u001b[0m \u001b[0mmodel\u001b[0m \u001b[0;34m=\u001b[0m \u001b[0mSentenceTransformer\u001b[0m\u001b[0;34m(\u001b[0m\u001b[0;34m'distilbert-base-nli-mean-tokens'\u001b[0m\u001b[0;34m)\u001b[0m\u001b[0;34m\u001b[0m\u001b[0;34m\u001b[0m\u001b[0m\n\u001b[0;32m----> 4\u001b[0;31m \u001b[0membeddings\u001b[0m \u001b[0;34m=\u001b[0m \u001b[0mmodel\u001b[0m\u001b[0;34m.\u001b[0m\u001b[0mencode\u001b[0m\u001b[0;34m(\u001b[0m\u001b[0ml\u001b[0m\u001b[0;34m,\u001b[0m \u001b[0mshow_progress_bar\u001b[0m\u001b[0;34m=\u001b[0m\u001b[0;32mTrue\u001b[0m\u001b[0;34m)\u001b[0m\u001b[0;34m\u001b[0m\u001b[0;34m\u001b[0m\u001b[0m\n\u001b[0m\u001b[1;32m      5\u001b[0m \u001b[0mprint\u001b[0m\u001b[0;34m(\u001b[0m\u001b[0membeddings\u001b[0m\u001b[0;34m)\u001b[0m\u001b[0;34m\u001b[0m\u001b[0;34m\u001b[0m\u001b[0m\n",
            "\u001b[0;32m/usr/local/lib/python3.10/dist-packages/sentence_transformers/SentenceTransformer.py\u001b[0m in \u001b[0;36mencode\u001b[0;34m(self, sentences, batch_size, show_progress_bar, output_value, convert_to_numpy, convert_to_tensor, device, normalize_embeddings)\u001b[0m\n\u001b[1;32m    163\u001b[0m \u001b[0;34m\u001b[0m\u001b[0m\n\u001b[1;32m    164\u001b[0m             \u001b[0;32mwith\u001b[0m \u001b[0mtorch\u001b[0m\u001b[0;34m.\u001b[0m\u001b[0mno_grad\u001b[0m\u001b[0;34m(\u001b[0m\u001b[0;34m)\u001b[0m\u001b[0;34m:\u001b[0m\u001b[0;34m\u001b[0m\u001b[0;34m\u001b[0m\u001b[0m\n\u001b[0;32m--> 165\u001b[0;31m                 \u001b[0mout_features\u001b[0m \u001b[0;34m=\u001b[0m \u001b[0mself\u001b[0m\u001b[0;34m.\u001b[0m\u001b[0mforward\u001b[0m\u001b[0;34m(\u001b[0m\u001b[0mfeatures\u001b[0m\u001b[0;34m)\u001b[0m\u001b[0;34m\u001b[0m\u001b[0;34m\u001b[0m\u001b[0m\n\u001b[0m\u001b[1;32m    166\u001b[0m \u001b[0;34m\u001b[0m\u001b[0m\n\u001b[1;32m    167\u001b[0m                 \u001b[0;32mif\u001b[0m \u001b[0moutput_value\u001b[0m \u001b[0;34m==\u001b[0m \u001b[0;34m'token_embeddings'\u001b[0m\u001b[0;34m:\u001b[0m\u001b[0;34m\u001b[0m\u001b[0;34m\u001b[0m\u001b[0m\n",
            "\u001b[0;32m/usr/local/lib/python3.10/dist-packages/torch/nn/modules/container.py\u001b[0m in \u001b[0;36mforward\u001b[0;34m(self, input)\u001b[0m\n\u001b[1;32m    215\u001b[0m     \u001b[0;32mdef\u001b[0m \u001b[0mforward\u001b[0m\u001b[0;34m(\u001b[0m\u001b[0mself\u001b[0m\u001b[0;34m,\u001b[0m \u001b[0minput\u001b[0m\u001b[0;34m)\u001b[0m\u001b[0;34m:\u001b[0m\u001b[0;34m\u001b[0m\u001b[0;34m\u001b[0m\u001b[0m\n\u001b[1;32m    216\u001b[0m         \u001b[0;32mfor\u001b[0m \u001b[0mmodule\u001b[0m \u001b[0;32min\u001b[0m \u001b[0mself\u001b[0m\u001b[0;34m:\u001b[0m\u001b[0;34m\u001b[0m\u001b[0;34m\u001b[0m\u001b[0m\n\u001b[0;32m--> 217\u001b[0;31m             \u001b[0minput\u001b[0m \u001b[0;34m=\u001b[0m \u001b[0mmodule\u001b[0m\u001b[0;34m(\u001b[0m\u001b[0minput\u001b[0m\u001b[0;34m)\u001b[0m\u001b[0;34m\u001b[0m\u001b[0;34m\u001b[0m\u001b[0m\n\u001b[0m\u001b[1;32m    218\u001b[0m         \u001b[0;32mreturn\u001b[0m \u001b[0minput\u001b[0m\u001b[0;34m\u001b[0m\u001b[0;34m\u001b[0m\u001b[0m\n\u001b[1;32m    219\u001b[0m \u001b[0;34m\u001b[0m\u001b[0m\n",
            "\u001b[0;32m/usr/local/lib/python3.10/dist-packages/torch/nn/modules/module.py\u001b[0m in \u001b[0;36m_call_impl\u001b[0;34m(self, *args, **kwargs)\u001b[0m\n\u001b[1;32m   1499\u001b[0m                 \u001b[0;32mor\u001b[0m \u001b[0m_global_backward_pre_hooks\u001b[0m \u001b[0;32mor\u001b[0m \u001b[0m_global_backward_hooks\u001b[0m\u001b[0;34m\u001b[0m\u001b[0;34m\u001b[0m\u001b[0m\n\u001b[1;32m   1500\u001b[0m                 or _global_forward_hooks or _global_forward_pre_hooks):\n\u001b[0;32m-> 1501\u001b[0;31m             \u001b[0;32mreturn\u001b[0m \u001b[0mforward_call\u001b[0m\u001b[0;34m(\u001b[0m\u001b[0;34m*\u001b[0m\u001b[0margs\u001b[0m\u001b[0;34m,\u001b[0m \u001b[0;34m**\u001b[0m\u001b[0mkwargs\u001b[0m\u001b[0;34m)\u001b[0m\u001b[0;34m\u001b[0m\u001b[0;34m\u001b[0m\u001b[0m\n\u001b[0m\u001b[1;32m   1502\u001b[0m         \u001b[0;31m# Do not call functions when jit is used\u001b[0m\u001b[0;34m\u001b[0m\u001b[0;34m\u001b[0m\u001b[0m\n\u001b[1;32m   1503\u001b[0m         \u001b[0mfull_backward_hooks\u001b[0m\u001b[0;34m,\u001b[0m \u001b[0mnon_full_backward_hooks\u001b[0m \u001b[0;34m=\u001b[0m \u001b[0;34m[\u001b[0m\u001b[0;34m]\u001b[0m\u001b[0;34m,\u001b[0m \u001b[0;34m[\u001b[0m\u001b[0;34m]\u001b[0m\u001b[0;34m\u001b[0m\u001b[0;34m\u001b[0m\u001b[0m\n",
            "\u001b[0;32m/usr/local/lib/python3.10/dist-packages/sentence_transformers/models/Transformer.py\u001b[0m in \u001b[0;36mforward\u001b[0;34m(self, features)\u001b[0m\n\u001b[1;32m     64\u001b[0m             \u001b[0mtrans_features\u001b[0m\u001b[0;34m[\u001b[0m\u001b[0;34m'token_type_ids'\u001b[0m\u001b[0;34m]\u001b[0m \u001b[0;34m=\u001b[0m \u001b[0mfeatures\u001b[0m\u001b[0;34m[\u001b[0m\u001b[0;34m'token_type_ids'\u001b[0m\u001b[0;34m]\u001b[0m\u001b[0;34m\u001b[0m\u001b[0;34m\u001b[0m\u001b[0m\n\u001b[1;32m     65\u001b[0m \u001b[0;34m\u001b[0m\u001b[0m\n\u001b[0;32m---> 66\u001b[0;31m         \u001b[0moutput_states\u001b[0m \u001b[0;34m=\u001b[0m \u001b[0mself\u001b[0m\u001b[0;34m.\u001b[0m\u001b[0mauto_model\u001b[0m\u001b[0;34m(\u001b[0m\u001b[0;34m**\u001b[0m\u001b[0mtrans_features\u001b[0m\u001b[0;34m,\u001b[0m \u001b[0mreturn_dict\u001b[0m\u001b[0;34m=\u001b[0m\u001b[0;32mFalse\u001b[0m\u001b[0;34m)\u001b[0m\u001b[0;34m\u001b[0m\u001b[0;34m\u001b[0m\u001b[0m\n\u001b[0m\u001b[1;32m     67\u001b[0m         \u001b[0moutput_tokens\u001b[0m \u001b[0;34m=\u001b[0m \u001b[0moutput_states\u001b[0m\u001b[0;34m[\u001b[0m\u001b[0;36m0\u001b[0m\u001b[0;34m]\u001b[0m\u001b[0;34m\u001b[0m\u001b[0;34m\u001b[0m\u001b[0m\n\u001b[1;32m     68\u001b[0m \u001b[0;34m\u001b[0m\u001b[0m\n",
            "\u001b[0;32m/usr/local/lib/python3.10/dist-packages/torch/nn/modules/module.py\u001b[0m in \u001b[0;36m_call_impl\u001b[0;34m(self, *args, **kwargs)\u001b[0m\n\u001b[1;32m   1499\u001b[0m                 \u001b[0;32mor\u001b[0m \u001b[0m_global_backward_pre_hooks\u001b[0m \u001b[0;32mor\u001b[0m \u001b[0m_global_backward_hooks\u001b[0m\u001b[0;34m\u001b[0m\u001b[0;34m\u001b[0m\u001b[0m\n\u001b[1;32m   1500\u001b[0m                 or _global_forward_hooks or _global_forward_pre_hooks):\n\u001b[0;32m-> 1501\u001b[0;31m             \u001b[0;32mreturn\u001b[0m \u001b[0mforward_call\u001b[0m\u001b[0;34m(\u001b[0m\u001b[0;34m*\u001b[0m\u001b[0margs\u001b[0m\u001b[0;34m,\u001b[0m \u001b[0;34m**\u001b[0m\u001b[0mkwargs\u001b[0m\u001b[0;34m)\u001b[0m\u001b[0;34m\u001b[0m\u001b[0;34m\u001b[0m\u001b[0m\n\u001b[0m\u001b[1;32m   1502\u001b[0m         \u001b[0;31m# Do not call functions when jit is used\u001b[0m\u001b[0;34m\u001b[0m\u001b[0;34m\u001b[0m\u001b[0m\n\u001b[1;32m   1503\u001b[0m         \u001b[0mfull_backward_hooks\u001b[0m\u001b[0;34m,\u001b[0m \u001b[0mnon_full_backward_hooks\u001b[0m \u001b[0;34m=\u001b[0m \u001b[0;34m[\u001b[0m\u001b[0;34m]\u001b[0m\u001b[0;34m,\u001b[0m \u001b[0;34m[\u001b[0m\u001b[0;34m]\u001b[0m\u001b[0;34m\u001b[0m\u001b[0;34m\u001b[0m\u001b[0m\n",
            "\u001b[0;32m/usr/local/lib/python3.10/dist-packages/transformers/models/distilbert/modeling_distilbert.py\u001b[0m in \u001b[0;36mforward\u001b[0;34m(self, input_ids, attention_mask, head_mask, inputs_embeds, output_attentions, output_hidden_states, return_dict)\u001b[0m\n\u001b[1;32m    581\u001b[0m         \u001b[0membeddings\u001b[0m \u001b[0;34m=\u001b[0m \u001b[0mself\u001b[0m\u001b[0;34m.\u001b[0m\u001b[0membeddings\u001b[0m\u001b[0;34m(\u001b[0m\u001b[0minput_ids\u001b[0m\u001b[0;34m,\u001b[0m \u001b[0minputs_embeds\u001b[0m\u001b[0;34m)\u001b[0m  \u001b[0;31m# (bs, seq_length, dim)\u001b[0m\u001b[0;34m\u001b[0m\u001b[0;34m\u001b[0m\u001b[0m\n\u001b[1;32m    582\u001b[0m \u001b[0;34m\u001b[0m\u001b[0m\n\u001b[0;32m--> 583\u001b[0;31m         return self.transformer(\n\u001b[0m\u001b[1;32m    584\u001b[0m             \u001b[0mx\u001b[0m\u001b[0;34m=\u001b[0m\u001b[0membeddings\u001b[0m\u001b[0;34m,\u001b[0m\u001b[0;34m\u001b[0m\u001b[0;34m\u001b[0m\u001b[0m\n\u001b[1;32m    585\u001b[0m             \u001b[0mattn_mask\u001b[0m\u001b[0;34m=\u001b[0m\u001b[0mattention_mask\u001b[0m\u001b[0;34m,\u001b[0m\u001b[0;34m\u001b[0m\u001b[0;34m\u001b[0m\u001b[0m\n",
            "\u001b[0;32m/usr/local/lib/python3.10/dist-packages/torch/nn/modules/module.py\u001b[0m in \u001b[0;36m_call_impl\u001b[0;34m(self, *args, **kwargs)\u001b[0m\n\u001b[1;32m   1499\u001b[0m                 \u001b[0;32mor\u001b[0m \u001b[0m_global_backward_pre_hooks\u001b[0m \u001b[0;32mor\u001b[0m \u001b[0m_global_backward_hooks\u001b[0m\u001b[0;34m\u001b[0m\u001b[0;34m\u001b[0m\u001b[0m\n\u001b[1;32m   1500\u001b[0m                 or _global_forward_hooks or _global_forward_pre_hooks):\n\u001b[0;32m-> 1501\u001b[0;31m             \u001b[0;32mreturn\u001b[0m \u001b[0mforward_call\u001b[0m\u001b[0;34m(\u001b[0m\u001b[0;34m*\u001b[0m\u001b[0margs\u001b[0m\u001b[0;34m,\u001b[0m \u001b[0;34m**\u001b[0m\u001b[0mkwargs\u001b[0m\u001b[0;34m)\u001b[0m\u001b[0;34m\u001b[0m\u001b[0;34m\u001b[0m\u001b[0m\n\u001b[0m\u001b[1;32m   1502\u001b[0m         \u001b[0;31m# Do not call functions when jit is used\u001b[0m\u001b[0;34m\u001b[0m\u001b[0;34m\u001b[0m\u001b[0m\n\u001b[1;32m   1503\u001b[0m         \u001b[0mfull_backward_hooks\u001b[0m\u001b[0;34m,\u001b[0m \u001b[0mnon_full_backward_hooks\u001b[0m \u001b[0;34m=\u001b[0m \u001b[0;34m[\u001b[0m\u001b[0;34m]\u001b[0m\u001b[0;34m,\u001b[0m \u001b[0;34m[\u001b[0m\u001b[0;34m]\u001b[0m\u001b[0;34m\u001b[0m\u001b[0;34m\u001b[0m\u001b[0m\n",
            "\u001b[0;32m/usr/local/lib/python3.10/dist-packages/transformers/models/distilbert/modeling_distilbert.py\u001b[0m in \u001b[0;36mforward\u001b[0;34m(self, x, attn_mask, head_mask, output_attentions, output_hidden_states, return_dict)\u001b[0m\n\u001b[1;32m    357\u001b[0m                 \u001b[0mall_hidden_states\u001b[0m \u001b[0;34m=\u001b[0m \u001b[0mall_hidden_states\u001b[0m \u001b[0;34m+\u001b[0m \u001b[0;34m(\u001b[0m\u001b[0mhidden_state\u001b[0m\u001b[0;34m,\u001b[0m\u001b[0;34m)\u001b[0m\u001b[0;34m\u001b[0m\u001b[0;34m\u001b[0m\u001b[0m\n\u001b[1;32m    358\u001b[0m \u001b[0;34m\u001b[0m\u001b[0m\n\u001b[0;32m--> 359\u001b[0;31m             layer_outputs = layer_module(\n\u001b[0m\u001b[1;32m    360\u001b[0m                 \u001b[0mx\u001b[0m\u001b[0;34m=\u001b[0m\u001b[0mhidden_state\u001b[0m\u001b[0;34m,\u001b[0m \u001b[0mattn_mask\u001b[0m\u001b[0;34m=\u001b[0m\u001b[0mattn_mask\u001b[0m\u001b[0;34m,\u001b[0m \u001b[0mhead_mask\u001b[0m\u001b[0;34m=\u001b[0m\u001b[0mhead_mask\u001b[0m\u001b[0;34m[\u001b[0m\u001b[0mi\u001b[0m\u001b[0;34m]\u001b[0m\u001b[0;34m,\u001b[0m \u001b[0moutput_attentions\u001b[0m\u001b[0;34m=\u001b[0m\u001b[0moutput_attentions\u001b[0m\u001b[0;34m\u001b[0m\u001b[0;34m\u001b[0m\u001b[0m\n\u001b[1;32m    361\u001b[0m             )\n",
            "\u001b[0;32m/usr/local/lib/python3.10/dist-packages/torch/nn/modules/module.py\u001b[0m in \u001b[0;36m_call_impl\u001b[0;34m(self, *args, **kwargs)\u001b[0m\n\u001b[1;32m   1499\u001b[0m                 \u001b[0;32mor\u001b[0m \u001b[0m_global_backward_pre_hooks\u001b[0m \u001b[0;32mor\u001b[0m \u001b[0m_global_backward_hooks\u001b[0m\u001b[0;34m\u001b[0m\u001b[0;34m\u001b[0m\u001b[0m\n\u001b[1;32m   1500\u001b[0m                 or _global_forward_hooks or _global_forward_pre_hooks):\n\u001b[0;32m-> 1501\u001b[0;31m             \u001b[0;32mreturn\u001b[0m \u001b[0mforward_call\u001b[0m\u001b[0;34m(\u001b[0m\u001b[0;34m*\u001b[0m\u001b[0margs\u001b[0m\u001b[0;34m,\u001b[0m \u001b[0;34m**\u001b[0m\u001b[0mkwargs\u001b[0m\u001b[0;34m)\u001b[0m\u001b[0;34m\u001b[0m\u001b[0;34m\u001b[0m\u001b[0m\n\u001b[0m\u001b[1;32m   1502\u001b[0m         \u001b[0;31m# Do not call functions when jit is used\u001b[0m\u001b[0;34m\u001b[0m\u001b[0;34m\u001b[0m\u001b[0m\n\u001b[1;32m   1503\u001b[0m         \u001b[0mfull_backward_hooks\u001b[0m\u001b[0;34m,\u001b[0m \u001b[0mnon_full_backward_hooks\u001b[0m \u001b[0;34m=\u001b[0m \u001b[0;34m[\u001b[0m\u001b[0;34m]\u001b[0m\u001b[0;34m,\u001b[0m \u001b[0;34m[\u001b[0m\u001b[0;34m]\u001b[0m\u001b[0;34m\u001b[0m\u001b[0;34m\u001b[0m\u001b[0m\n",
            "\u001b[0;32m/usr/local/lib/python3.10/dist-packages/transformers/models/distilbert/modeling_distilbert.py\u001b[0m in \u001b[0;36mforward\u001b[0;34m(self, x, attn_mask, head_mask, output_attentions)\u001b[0m\n\u001b[1;32m    293\u001b[0m         \"\"\"\n\u001b[1;32m    294\u001b[0m         \u001b[0;31m# Self-Attention\u001b[0m\u001b[0;34m\u001b[0m\u001b[0;34m\u001b[0m\u001b[0m\n\u001b[0;32m--> 295\u001b[0;31m         sa_output = self.attention(\n\u001b[0m\u001b[1;32m    296\u001b[0m             \u001b[0mquery\u001b[0m\u001b[0;34m=\u001b[0m\u001b[0mx\u001b[0m\u001b[0;34m,\u001b[0m\u001b[0;34m\u001b[0m\u001b[0;34m\u001b[0m\u001b[0m\n\u001b[1;32m    297\u001b[0m             \u001b[0mkey\u001b[0m\u001b[0;34m=\u001b[0m\u001b[0mx\u001b[0m\u001b[0;34m,\u001b[0m\u001b[0;34m\u001b[0m\u001b[0;34m\u001b[0m\u001b[0m\n",
            "\u001b[0;32m/usr/local/lib/python3.10/dist-packages/torch/nn/modules/module.py\u001b[0m in \u001b[0;36m_call_impl\u001b[0;34m(self, *args, **kwargs)\u001b[0m\n\u001b[1;32m   1499\u001b[0m                 \u001b[0;32mor\u001b[0m \u001b[0m_global_backward_pre_hooks\u001b[0m \u001b[0;32mor\u001b[0m \u001b[0m_global_backward_hooks\u001b[0m\u001b[0;34m\u001b[0m\u001b[0;34m\u001b[0m\u001b[0m\n\u001b[1;32m   1500\u001b[0m                 or _global_forward_hooks or _global_forward_pre_hooks):\n\u001b[0;32m-> 1501\u001b[0;31m             \u001b[0;32mreturn\u001b[0m \u001b[0mforward_call\u001b[0m\u001b[0;34m(\u001b[0m\u001b[0;34m*\u001b[0m\u001b[0margs\u001b[0m\u001b[0;34m,\u001b[0m \u001b[0;34m**\u001b[0m\u001b[0mkwargs\u001b[0m\u001b[0;34m)\u001b[0m\u001b[0;34m\u001b[0m\u001b[0;34m\u001b[0m\u001b[0m\n\u001b[0m\u001b[1;32m   1502\u001b[0m         \u001b[0;31m# Do not call functions when jit is used\u001b[0m\u001b[0;34m\u001b[0m\u001b[0;34m\u001b[0m\u001b[0m\n\u001b[1;32m   1503\u001b[0m         \u001b[0mfull_backward_hooks\u001b[0m\u001b[0;34m,\u001b[0m \u001b[0mnon_full_backward_hooks\u001b[0m \u001b[0;34m=\u001b[0m \u001b[0;34m[\u001b[0m\u001b[0;34m]\u001b[0m\u001b[0;34m,\u001b[0m \u001b[0;34m[\u001b[0m\u001b[0;34m]\u001b[0m\u001b[0;34m\u001b[0m\u001b[0;34m\u001b[0m\u001b[0m\n",
            "\u001b[0;32m/usr/local/lib/python3.10/dist-packages/transformers/models/distilbert/modeling_distilbert.py\u001b[0m in \u001b[0;36mforward\u001b[0;34m(self, query, key, value, mask, head_mask, output_attentions)\u001b[0m\n\u001b[1;32m    213\u001b[0m             \u001b[0;32mreturn\u001b[0m \u001b[0mx\u001b[0m\u001b[0;34m.\u001b[0m\u001b[0mtranspose\u001b[0m\u001b[0;34m(\u001b[0m\u001b[0;36m1\u001b[0m\u001b[0;34m,\u001b[0m \u001b[0;36m2\u001b[0m\u001b[0;34m)\u001b[0m\u001b[0;34m.\u001b[0m\u001b[0mcontiguous\u001b[0m\u001b[0;34m(\u001b[0m\u001b[0;34m)\u001b[0m\u001b[0;34m.\u001b[0m\u001b[0mview\u001b[0m\u001b[0;34m(\u001b[0m\u001b[0mbs\u001b[0m\u001b[0;34m,\u001b[0m \u001b[0;34m-\u001b[0m\u001b[0;36m1\u001b[0m\u001b[0;34m,\u001b[0m \u001b[0mself\u001b[0m\u001b[0;34m.\u001b[0m\u001b[0mn_heads\u001b[0m \u001b[0;34m*\u001b[0m \u001b[0mdim_per_head\u001b[0m\u001b[0;34m)\u001b[0m\u001b[0;34m\u001b[0m\u001b[0;34m\u001b[0m\u001b[0m\n\u001b[1;32m    214\u001b[0m \u001b[0;34m\u001b[0m\u001b[0m\n\u001b[0;32m--> 215\u001b[0;31m         \u001b[0mq\u001b[0m \u001b[0;34m=\u001b[0m \u001b[0mshape\u001b[0m\u001b[0;34m(\u001b[0m\u001b[0mself\u001b[0m\u001b[0;34m.\u001b[0m\u001b[0mq_lin\u001b[0m\u001b[0;34m(\u001b[0m\u001b[0mquery\u001b[0m\u001b[0;34m)\u001b[0m\u001b[0;34m)\u001b[0m  \u001b[0;31m# (bs, n_heads, q_length, dim_per_head)\u001b[0m\u001b[0;34m\u001b[0m\u001b[0;34m\u001b[0m\u001b[0m\n\u001b[0m\u001b[1;32m    216\u001b[0m         \u001b[0mk\u001b[0m \u001b[0;34m=\u001b[0m \u001b[0mshape\u001b[0m\u001b[0;34m(\u001b[0m\u001b[0mself\u001b[0m\u001b[0;34m.\u001b[0m\u001b[0mk_lin\u001b[0m\u001b[0;34m(\u001b[0m\u001b[0mkey\u001b[0m\u001b[0;34m)\u001b[0m\u001b[0;34m)\u001b[0m  \u001b[0;31m# (bs, n_heads, k_length, dim_per_head)\u001b[0m\u001b[0;34m\u001b[0m\u001b[0;34m\u001b[0m\u001b[0m\n\u001b[1;32m    217\u001b[0m         \u001b[0mv\u001b[0m \u001b[0;34m=\u001b[0m \u001b[0mshape\u001b[0m\u001b[0;34m(\u001b[0m\u001b[0mself\u001b[0m\u001b[0;34m.\u001b[0m\u001b[0mv_lin\u001b[0m\u001b[0;34m(\u001b[0m\u001b[0mvalue\u001b[0m\u001b[0;34m)\u001b[0m\u001b[0;34m)\u001b[0m  \u001b[0;31m# (bs, n_heads, k_length, dim_per_head)\u001b[0m\u001b[0;34m\u001b[0m\u001b[0;34m\u001b[0m\u001b[0m\n",
            "\u001b[0;32m/usr/local/lib/python3.10/dist-packages/torch/nn/modules/module.py\u001b[0m in \u001b[0;36m_call_impl\u001b[0;34m(self, *args, **kwargs)\u001b[0m\n\u001b[1;32m   1499\u001b[0m                 \u001b[0;32mor\u001b[0m \u001b[0m_global_backward_pre_hooks\u001b[0m \u001b[0;32mor\u001b[0m \u001b[0m_global_backward_hooks\u001b[0m\u001b[0;34m\u001b[0m\u001b[0;34m\u001b[0m\u001b[0m\n\u001b[1;32m   1500\u001b[0m                 or _global_forward_hooks or _global_forward_pre_hooks):\n\u001b[0;32m-> 1501\u001b[0;31m             \u001b[0;32mreturn\u001b[0m \u001b[0mforward_call\u001b[0m\u001b[0;34m(\u001b[0m\u001b[0;34m*\u001b[0m\u001b[0margs\u001b[0m\u001b[0;34m,\u001b[0m \u001b[0;34m**\u001b[0m\u001b[0mkwargs\u001b[0m\u001b[0;34m)\u001b[0m\u001b[0;34m\u001b[0m\u001b[0;34m\u001b[0m\u001b[0m\n\u001b[0m\u001b[1;32m   1502\u001b[0m         \u001b[0;31m# Do not call functions when jit is used\u001b[0m\u001b[0;34m\u001b[0m\u001b[0;34m\u001b[0m\u001b[0m\n\u001b[1;32m   1503\u001b[0m         \u001b[0mfull_backward_hooks\u001b[0m\u001b[0;34m,\u001b[0m \u001b[0mnon_full_backward_hooks\u001b[0m \u001b[0;34m=\u001b[0m \u001b[0;34m[\u001b[0m\u001b[0;34m]\u001b[0m\u001b[0;34m,\u001b[0m \u001b[0;34m[\u001b[0m\u001b[0;34m]\u001b[0m\u001b[0;34m\u001b[0m\u001b[0;34m\u001b[0m\u001b[0m\n",
            "\u001b[0;32m/usr/local/lib/python3.10/dist-packages/torch/nn/modules/linear.py\u001b[0m in \u001b[0;36mforward\u001b[0;34m(self, input)\u001b[0m\n\u001b[1;32m    112\u001b[0m \u001b[0;34m\u001b[0m\u001b[0m\n\u001b[1;32m    113\u001b[0m     \u001b[0;32mdef\u001b[0m \u001b[0mforward\u001b[0m\u001b[0;34m(\u001b[0m\u001b[0mself\u001b[0m\u001b[0;34m,\u001b[0m \u001b[0minput\u001b[0m\u001b[0;34m:\u001b[0m \u001b[0mTensor\u001b[0m\u001b[0;34m)\u001b[0m \u001b[0;34m->\u001b[0m \u001b[0mTensor\u001b[0m\u001b[0;34m:\u001b[0m\u001b[0;34m\u001b[0m\u001b[0;34m\u001b[0m\u001b[0m\n\u001b[0;32m--> 114\u001b[0;31m         \u001b[0;32mreturn\u001b[0m \u001b[0mF\u001b[0m\u001b[0;34m.\u001b[0m\u001b[0mlinear\u001b[0m\u001b[0;34m(\u001b[0m\u001b[0minput\u001b[0m\u001b[0;34m,\u001b[0m \u001b[0mself\u001b[0m\u001b[0;34m.\u001b[0m\u001b[0mweight\u001b[0m\u001b[0;34m,\u001b[0m \u001b[0mself\u001b[0m\u001b[0;34m.\u001b[0m\u001b[0mbias\u001b[0m\u001b[0;34m)\u001b[0m\u001b[0;34m\u001b[0m\u001b[0;34m\u001b[0m\u001b[0m\n\u001b[0m\u001b[1;32m    115\u001b[0m \u001b[0;34m\u001b[0m\u001b[0m\n\u001b[1;32m    116\u001b[0m     \u001b[0;32mdef\u001b[0m \u001b[0mextra_repr\u001b[0m\u001b[0;34m(\u001b[0m\u001b[0mself\u001b[0m\u001b[0;34m)\u001b[0m \u001b[0;34m->\u001b[0m \u001b[0mstr\u001b[0m\u001b[0;34m:\u001b[0m\u001b[0;34m\u001b[0m\u001b[0;34m\u001b[0m\u001b[0m\n",
            "\u001b[0;31mKeyboardInterrupt\u001b[0m: "
          ]
        }
      ],
      "source": [
        "#@title Embeddings\n",
        "from sentence_transformers import SentenceTransformer\n",
        "model = SentenceTransformer('distilbert-base-nli-mean-tokens')\n",
        "embeddings = model.encode(l, show_progress_bar=True)\n",
        "print(embeddings)"
      ]
    },
    {
      "cell_type": "code",
      "execution_count": null,
      "metadata": {
        "id": "MmbDgJEK2wuq"
      },
      "outputs": [],
      "source": [
        "!pip install umap-learn"
      ]
    },
    {
      "cell_type": "code",
      "execution_count": null,
      "metadata": {
        "id": "8gGZCM5XIl-Z"
      },
      "outputs": [],
      "source": [
        "#@title UMAP\n",
        "import umap.umap_ as um\n",
        "umap_embeddings = um.UMAP(n_neighbors=15, n_components=2, metric='cosine').fit_transform(embeddings)\n"
      ]
    },
    {
      "cell_type": "code",
      "execution_count": null,
      "metadata": {
        "id": "X6dzWRKBMqW5"
      },
      "outputs": [],
      "source": [
        "#@title HDBSCAN\n",
        "import hdbscan\n",
        "cluster = hdbscan.HDBSCAN(min_samples=5,min_cluster_size=75,metric='euclidean', cluster_selection_method='leaf').fit(umap_embeddings)"
      ]
    },
    {
      "cell_type": "code",
      "execution_count": null,
      "metadata": {
        "id": "TUs58wK2Mz4a"
      },
      "outputs": [],
      "source": [
        "import matplotlib.pyplot as plt\n",
        "import umap.umap_ as umap\n",
        "import pandas as pd\n",
        "# Prepare data\n",
        "umap_data = umap.UMAP(n_neighbors=15, n_components=2, min_dist=0.0, metric='cosine').fit_transform(embeddings)\n",
        "result = pd.DataFrame(umap_data, columns=['x', 'y'])\n",
        "result['labels'] = cluster.labels_\n",
        "\n",
        "# Visualize clusters\n",
        "fig, ax = plt.subplots(figsize=(20, 10))\n",
        "outliers = result.loc[result.labels == -1, :]\n",
        "clustered = result.loc[result.labels != -1, :]\n",
        "plt.scatter(outliers.x, outliers.y, color='#BDBDBD', s=0.05)\n",
        "plt.scatter(clustered.x, clustered.y, c=clustered.labels, s=0.05, cmap='hsv_r')\n",
        "plt.colorbar()"
      ]
    },
    {
      "cell_type": "code",
      "execution_count": null,
      "metadata": {
        "id": "-5bu0c5nM3PT"
      },
      "outputs": [],
      "source": [
        "#@title c TF-IDF\n",
        "docs_df = pd.DataFrame(l, columns=[\"Doc\"])\n",
        "docs_df['Topic'] = cluster.labels_\n",
        "docs_df['Doc_ID'] = range(len(docs_df))\n",
        "docs_per_topic = docs_df.groupby(['Topic'], as_index = False).agg({'Doc': ' '.join})"
      ]
    },
    {
      "cell_type": "code",
      "execution_count": null,
      "metadata": {
        "id": "0q01ZUgjM-mF"
      },
      "outputs": [],
      "source": [
        "import numpy as np\n",
        "from sklearn.feature_extraction.text import CountVectorizer\n",
        "\n",
        "def c_tf_idf(documents, m, ngram_range=(1, 1)):\n",
        "    count = CountVectorizer(ngram_range=ngram_range, stop_words=\"english\").fit(documents)\n",
        "    t = count.transform(documents).toarray()\n",
        "    w = t.sum(axis=1)\n",
        "    tf = np.divide(t.T, w)\n",
        "    sum_t = t.sum(axis=0)\n",
        "    idf = np.log(np.divide(m, sum_t)).reshape(-1, 1)\n",
        "    tf_idf = np.multiply(tf, idf)\n",
        "\n",
        "    return tf_idf, count\n",
        "\n",
        "tf_idf, count = c_tf_idf(docs_per_topic.Doc.values, m=len(l))"
      ]
    },
    {
      "cell_type": "code",
      "execution_count": null,
      "metadata": {
        "colab": {
          "base_uri": "https://localhost:8080/",
          "height": 363
        },
        "id": "ImgH2i9pNBXj",
        "outputId": "de5012db-5ee7-4117-f37b-03cca0dcddbe"
      },
      "outputs": [
        {
          "output_type": "execute_result",
          "data": {
            "text/plain": [
              "    Topic  Size\n",
              "0      -1  4752\n",
              "19     18   336\n",
              "18     17   306\n",
              "13     12   294\n",
              "1       0   257\n",
              "17     16   238\n",
              "14     13   212\n",
              "15     14   206\n",
              "2       1   199\n",
              "21     20   179"
            ],
            "text/html": [
              "\n",
              "  <div id=\"df-3ad33b8a-bd50-4998-b776-bb25a3a57c9c\">\n",
              "    <div class=\"colab-df-container\">\n",
              "      <div>\n",
              "<style scoped>\n",
              "    .dataframe tbody tr th:only-of-type {\n",
              "        vertical-align: middle;\n",
              "    }\n",
              "\n",
              "    .dataframe tbody tr th {\n",
              "        vertical-align: top;\n",
              "    }\n",
              "\n",
              "    .dataframe thead th {\n",
              "        text-align: right;\n",
              "    }\n",
              "</style>\n",
              "<table border=\"1\" class=\"dataframe\">\n",
              "  <thead>\n",
              "    <tr style=\"text-align: right;\">\n",
              "      <th></th>\n",
              "      <th>Topic</th>\n",
              "      <th>Size</th>\n",
              "    </tr>\n",
              "  </thead>\n",
              "  <tbody>\n",
              "    <tr>\n",
              "      <th>0</th>\n",
              "      <td>-1</td>\n",
              "      <td>4752</td>\n",
              "    </tr>\n",
              "    <tr>\n",
              "      <th>19</th>\n",
              "      <td>18</td>\n",
              "      <td>336</td>\n",
              "    </tr>\n",
              "    <tr>\n",
              "      <th>18</th>\n",
              "      <td>17</td>\n",
              "      <td>306</td>\n",
              "    </tr>\n",
              "    <tr>\n",
              "      <th>13</th>\n",
              "      <td>12</td>\n",
              "      <td>294</td>\n",
              "    </tr>\n",
              "    <tr>\n",
              "      <th>1</th>\n",
              "      <td>0</td>\n",
              "      <td>257</td>\n",
              "    </tr>\n",
              "    <tr>\n",
              "      <th>17</th>\n",
              "      <td>16</td>\n",
              "      <td>238</td>\n",
              "    </tr>\n",
              "    <tr>\n",
              "      <th>14</th>\n",
              "      <td>13</td>\n",
              "      <td>212</td>\n",
              "    </tr>\n",
              "    <tr>\n",
              "      <th>15</th>\n",
              "      <td>14</td>\n",
              "      <td>206</td>\n",
              "    </tr>\n",
              "    <tr>\n",
              "      <th>2</th>\n",
              "      <td>1</td>\n",
              "      <td>199</td>\n",
              "    </tr>\n",
              "    <tr>\n",
              "      <th>21</th>\n",
              "      <td>20</td>\n",
              "      <td>179</td>\n",
              "    </tr>\n",
              "  </tbody>\n",
              "</table>\n",
              "</div>\n",
              "      <button class=\"colab-df-convert\" onclick=\"convertToInteractive('df-3ad33b8a-bd50-4998-b776-bb25a3a57c9c')\"\n",
              "              title=\"Convert this dataframe to an interactive table.\"\n",
              "              style=\"display:none;\">\n",
              "        \n",
              "  <svg xmlns=\"http://www.w3.org/2000/svg\" height=\"24px\"viewBox=\"0 0 24 24\"\n",
              "       width=\"24px\">\n",
              "    <path d=\"M0 0h24v24H0V0z\" fill=\"none\"/>\n",
              "    <path d=\"M18.56 5.44l.94 2.06.94-2.06 2.06-.94-2.06-.94-.94-2.06-.94 2.06-2.06.94zm-11 1L8.5 8.5l.94-2.06 2.06-.94-2.06-.94L8.5 2.5l-.94 2.06-2.06.94zm10 10l.94 2.06.94-2.06 2.06-.94-2.06-.94-.94-2.06-.94 2.06-2.06.94z\"/><path d=\"M17.41 7.96l-1.37-1.37c-.4-.4-.92-.59-1.43-.59-.52 0-1.04.2-1.43.59L10.3 9.45l-7.72 7.72c-.78.78-.78 2.05 0 2.83L4 21.41c.39.39.9.59 1.41.59.51 0 1.02-.2 1.41-.59l7.78-7.78 2.81-2.81c.8-.78.8-2.07 0-2.86zM5.41 20L4 18.59l7.72-7.72 1.47 1.35L5.41 20z\"/>\n",
              "  </svg>\n",
              "      </button>\n",
              "      \n",
              "  <style>\n",
              "    .colab-df-container {\n",
              "      display:flex;\n",
              "      flex-wrap:wrap;\n",
              "      gap: 12px;\n",
              "    }\n",
              "\n",
              "    .colab-df-convert {\n",
              "      background-color: #E8F0FE;\n",
              "      border: none;\n",
              "      border-radius: 50%;\n",
              "      cursor: pointer;\n",
              "      display: none;\n",
              "      fill: #1967D2;\n",
              "      height: 32px;\n",
              "      padding: 0 0 0 0;\n",
              "      width: 32px;\n",
              "    }\n",
              "\n",
              "    .colab-df-convert:hover {\n",
              "      background-color: #E2EBFA;\n",
              "      box-shadow: 0px 1px 2px rgba(60, 64, 67, 0.3), 0px 1px 3px 1px rgba(60, 64, 67, 0.15);\n",
              "      fill: #174EA6;\n",
              "    }\n",
              "\n",
              "    [theme=dark] .colab-df-convert {\n",
              "      background-color: #3B4455;\n",
              "      fill: #D2E3FC;\n",
              "    }\n",
              "\n",
              "    [theme=dark] .colab-df-convert:hover {\n",
              "      background-color: #434B5C;\n",
              "      box-shadow: 0px 1px 3px 1px rgba(0, 0, 0, 0.15);\n",
              "      filter: drop-shadow(0px 1px 2px rgba(0, 0, 0, 0.3));\n",
              "      fill: #FFFFFF;\n",
              "    }\n",
              "  </style>\n",
              "\n",
              "      <script>\n",
              "        const buttonEl =\n",
              "          document.querySelector('#df-3ad33b8a-bd50-4998-b776-bb25a3a57c9c button.colab-df-convert');\n",
              "        buttonEl.style.display =\n",
              "          google.colab.kernel.accessAllowed ? 'block' : 'none';\n",
              "\n",
              "        async function convertToInteractive(key) {\n",
              "          const element = document.querySelector('#df-3ad33b8a-bd50-4998-b776-bb25a3a57c9c');\n",
              "          const dataTable =\n",
              "            await google.colab.kernel.invokeFunction('convertToInteractive',\n",
              "                                                     [key], {});\n",
              "          if (!dataTable) return;\n",
              "\n",
              "          const docLinkHtml = 'Like what you see? Visit the ' +\n",
              "            '<a target=\"_blank\" href=https://colab.research.google.com/notebooks/data_table.ipynb>data table notebook</a>'\n",
              "            + ' to learn more about interactive tables.';\n",
              "          element.innerHTML = '';\n",
              "          dataTable['output_type'] = 'display_data';\n",
              "          await google.colab.output.renderOutput(dataTable, element);\n",
              "          const docLink = document.createElement('div');\n",
              "          docLink.innerHTML = docLinkHtml;\n",
              "          element.appendChild(docLink);\n",
              "        }\n",
              "      </script>\n",
              "    </div>\n",
              "  </div>\n",
              "  "
            ]
          },
          "metadata": {},
          "execution_count": 47
        }
      ],
      "source": [
        "#@title Topic Representation\n",
        "def extract_top_n_words_per_topic(tf_idf, count, docs_per_topic, n=20):\n",
        "    words = count.get_feature_names_out()\n",
        "    labels = list(docs_per_topic.Topic)\n",
        "    tf_idf_transposed = tf_idf.T\n",
        "    indices = tf_idf_transposed.argsort()[:, -n:]\n",
        "    top_n_words = {label: [(words[j], tf_idf_transposed[i][j]) for j in indices[i]][::-1] for i, label in enumerate(labels)}\n",
        "    return top_n_words\n",
        "\n",
        "def extract_topic_sizes(df):\n",
        "    topic_sizes = (df.groupby(['Topic']).Doc.count().reset_index().rename({\"Topic\": \"Topic\", \"Doc\": \"Size\"}, axis='columns').sort_values(\"Size\", ascending=False))\n",
        "    return topic_sizes\n",
        "\n",
        "top_n_words = extract_top_n_words_per_topic(tf_idf, count, docs_per_topic, n=20)\n",
        "topic_sizes = extract_topic_sizes(docs_df); topic_sizes.head(10)"
      ]
    },
    {
      "cell_type": "code",
      "execution_count": null,
      "metadata": {
        "id": "hISKqs0T1Mov",
        "colab": {
          "base_uri": "https://localhost:8080/"
        },
        "outputId": "f64f8509-64c4-41c9-c5f7-e0ec949a2125"
      },
      "outputs": [
        {
          "output_type": "execute_result",
          "data": {
            "text/plain": [
              "[('space', 0.08175868133350757),\n",
              " ('moon', 0.04880746234920423),\n",
              " ('orbit', 0.04659319065858586),\n",
              " ('earth', 0.03701489452685009),\n",
              " ('nasa', 0.035992999282955004),\n",
              " ('shuttle', 0.031125852824498843),\n",
              " ('satellite', 0.028295572107365212),\n",
              " ('lunar', 0.025766420358858712),\n",
              " ('spacecraft', 0.02288369864002721),\n",
              " ('rocket', 0.022720487847083488)]"
            ]
          },
          "metadata": {},
          "execution_count": 51
        }
      ],
      "source": [
        "top_n_words[0][:10]"
      ]
    },
    {
      "cell_type": "code",
      "execution_count": null,
      "metadata": {
        "colab": {
          "base_uri": "https://localhost:8080/",
          "height": 363
        },
        "id": "vE-F09CHNGrZ",
        "outputId": "a65c686e-d9d2-422c-ebdc-c03bbb33f1c4"
      },
      "outputs": [
        {
          "data": {
            "text/html": [
              "\n",
              "  <div id=\"df-94f63df6-15fd-4670-92f5-07a41eba64c3\">\n",
              "    <div class=\"colab-df-container\">\n",
              "      <div>\n",
              "<style scoped>\n",
              "    .dataframe tbody tr th:only-of-type {\n",
              "        vertical-align: middle;\n",
              "    }\n",
              "\n",
              "    .dataframe tbody tr th {\n",
              "        vertical-align: top;\n",
              "    }\n",
              "\n",
              "    .dataframe thead th {\n",
              "        text-align: right;\n",
              "    }\n",
              "</style>\n",
              "<table border=\"1\" class=\"dataframe\">\n",
              "  <thead>\n",
              "    <tr style=\"text-align: right;\">\n",
              "      <th></th>\n",
              "      <th>Topic</th>\n",
              "      <th>Size</th>\n",
              "    </tr>\n",
              "  </thead>\n",
              "  <tbody>\n",
              "    <tr>\n",
              "      <th>0</th>\n",
              "      <td>-1</td>\n",
              "      <td>5222</td>\n",
              "    </tr>\n",
              "    <tr>\n",
              "      <th>21</th>\n",
              "      <td>20</td>\n",
              "      <td>441</td>\n",
              "    </tr>\n",
              "    <tr>\n",
              "      <th>17</th>\n",
              "      <td>16</td>\n",
              "      <td>356</td>\n",
              "    </tr>\n",
              "    <tr>\n",
              "      <th>6</th>\n",
              "      <td>5</td>\n",
              "      <td>308</td>\n",
              "    </tr>\n",
              "    <tr>\n",
              "      <th>4</th>\n",
              "      <td>3</td>\n",
              "      <td>262</td>\n",
              "    </tr>\n",
              "    <tr>\n",
              "      <th>2</th>\n",
              "      <td>1</td>\n",
              "      <td>245</td>\n",
              "    </tr>\n",
              "    <tr>\n",
              "      <th>3</th>\n",
              "      <td>2</td>\n",
              "      <td>238</td>\n",
              "    </tr>\n",
              "    <tr>\n",
              "      <th>11</th>\n",
              "      <td>10</td>\n",
              "      <td>221</td>\n",
              "    </tr>\n",
              "    <tr>\n",
              "      <th>1</th>\n",
              "      <td>0</td>\n",
              "      <td>218</td>\n",
              "    </tr>\n",
              "    <tr>\n",
              "      <th>8</th>\n",
              "      <td>7</td>\n",
              "      <td>179</td>\n",
              "    </tr>\n",
              "  </tbody>\n",
              "</table>\n",
              "</div>\n",
              "      <button class=\"colab-df-convert\" onclick=\"convertToInteractive('df-94f63df6-15fd-4670-92f5-07a41eba64c3')\"\n",
              "              title=\"Convert this dataframe to an interactive table.\"\n",
              "              style=\"display:none;\">\n",
              "        \n",
              "  <svg xmlns=\"http://www.w3.org/2000/svg\" height=\"24px\"viewBox=\"0 0 24 24\"\n",
              "       width=\"24px\">\n",
              "    <path d=\"M0 0h24v24H0V0z\" fill=\"none\"/>\n",
              "    <path d=\"M18.56 5.44l.94 2.06.94-2.06 2.06-.94-2.06-.94-.94-2.06-.94 2.06-2.06.94zm-11 1L8.5 8.5l.94-2.06 2.06-.94-2.06-.94L8.5 2.5l-.94 2.06-2.06.94zm10 10l.94 2.06.94-2.06 2.06-.94-2.06-.94-.94-2.06-.94 2.06-2.06.94z\"/><path d=\"M17.41 7.96l-1.37-1.37c-.4-.4-.92-.59-1.43-.59-.52 0-1.04.2-1.43.59L10.3 9.45l-7.72 7.72c-.78.78-.78 2.05 0 2.83L4 21.41c.39.39.9.59 1.41.59.51 0 1.02-.2 1.41-.59l7.78-7.78 2.81-2.81c.8-.78.8-2.07 0-2.86zM5.41 20L4 18.59l7.72-7.72 1.47 1.35L5.41 20z\"/>\n",
              "  </svg>\n",
              "      </button>\n",
              "      \n",
              "  <style>\n",
              "    .colab-df-container {\n",
              "      display:flex;\n",
              "      flex-wrap:wrap;\n",
              "      gap: 12px;\n",
              "    }\n",
              "\n",
              "    .colab-df-convert {\n",
              "      background-color: #E8F0FE;\n",
              "      border: none;\n",
              "      border-radius: 50%;\n",
              "      cursor: pointer;\n",
              "      display: none;\n",
              "      fill: #1967D2;\n",
              "      height: 32px;\n",
              "      padding: 0 0 0 0;\n",
              "      width: 32px;\n",
              "    }\n",
              "\n",
              "    .colab-df-convert:hover {\n",
              "      background-color: #E2EBFA;\n",
              "      box-shadow: 0px 1px 2px rgba(60, 64, 67, 0.3), 0px 1px 3px 1px rgba(60, 64, 67, 0.15);\n",
              "      fill: #174EA6;\n",
              "    }\n",
              "\n",
              "    [theme=dark] .colab-df-convert {\n",
              "      background-color: #3B4455;\n",
              "      fill: #D2E3FC;\n",
              "    }\n",
              "\n",
              "    [theme=dark] .colab-df-convert:hover {\n",
              "      background-color: #434B5C;\n",
              "      box-shadow: 0px 1px 3px 1px rgba(0, 0, 0, 0.15);\n",
              "      filter: drop-shadow(0px 1px 2px rgba(0, 0, 0, 0.3));\n",
              "      fill: #FFFFFF;\n",
              "    }\n",
              "  </style>\n",
              "\n",
              "      <script>\n",
              "        const buttonEl =\n",
              "          document.querySelector('#df-94f63df6-15fd-4670-92f5-07a41eba64c3 button.colab-df-convert');\n",
              "        buttonEl.style.display =\n",
              "          google.colab.kernel.accessAllowed ? 'block' : 'none';\n",
              "\n",
              "        async function convertToInteractive(key) {\n",
              "          const element = document.querySelector('#df-94f63df6-15fd-4670-92f5-07a41eba64c3');\n",
              "          const dataTable =\n",
              "            await google.colab.kernel.invokeFunction('convertToInteractive',\n",
              "                                                     [key], {});\n",
              "          if (!dataTable) return;\n",
              "\n",
              "          const docLinkHtml = 'Like what you see? Visit the ' +\n",
              "            '<a target=\"_blank\" href=https://colab.research.google.com/notebooks/data_table.ipynb>data table notebook</a>'\n",
              "            + ' to learn more about interactive tables.';\n",
              "          element.innerHTML = '';\n",
              "          dataTable['output_type'] = 'display_data';\n",
              "          await google.colab.output.renderOutput(dataTable, element);\n",
              "          const docLink = document.createElement('div');\n",
              "          docLink.innerHTML = docLinkHtml;\n",
              "          element.appendChild(docLink);\n",
              "        }\n",
              "      </script>\n",
              "    </div>\n",
              "  </div>\n",
              "  "
            ],
            "text/plain": [
              "    Topic  Size\n",
              "0      -1  5222\n",
              "21     20   441\n",
              "17     16   356\n",
              "6       5   308\n",
              "4       3   262\n",
              "2       1   245\n",
              "3       2   238\n",
              "11     10   221\n",
              "1       0   218\n",
              "8       7   179"
            ]
          },
          "execution_count": 16,
          "metadata": {},
          "output_type": "execute_result"
        }
      ],
      "source": [
        "from sklearn.metrics.pairwise import cosine_similarity\n",
        "for i in range(20):\n",
        "    # Calculate cosine similarity\n",
        "    similarities = cosine_similarity(tf_idf.T)\n",
        "    np.fill_diagonal(similarities, 0)\n",
        "\n",
        "    # Extract label to merge into and from where\n",
        "    topic_sizes = docs_df.groupby(['Topic']).count().sort_values(\"Doc\", ascending=False).reset_index()\n",
        "    topic_to_merge = topic_sizes.iloc[-1].Topic\n",
        "    topic_to_merge_into = np.argmax(similarities[topic_to_merge + 1]) - 1\n",
        "\n",
        "    # Adjust topics\n",
        "    docs_df.loc[docs_df.Topic == topic_to_merge, \"Topic\"] = topic_to_merge_into\n",
        "    old_topics = docs_df.sort_values(\"Topic\").Topic.unique()\n",
        "    map_topics = {old_topic: index - 1 for index, old_topic in enumerate(old_topics)}\n",
        "    docs_df.Topic = docs_df.Topic.map(map_topics)\n",
        "    docs_per_topic = docs_df.groupby(['Topic'], as_index = False).agg({'Doc': ' '.join})\n",
        "\n",
        "    # Calculate new topic words\n",
        "    m = len(l)\n",
        "    tf_idf, count = c_tf_idf(docs_per_topic.Doc.values, m)\n",
        "    top_n_words = extract_top_n_words_per_topic(tf_idf, count, docs_per_topic, n=20)\n",
        "\n",
        "topic_sizes = extract_topic_sizes(docs_df); topic_sizes.head(10)"
      ]
    },
    {
      "cell_type": "code",
      "execution_count": null,
      "metadata": {
        "colab": {
          "base_uri": "https://localhost:8080/"
        },
        "id": "pKVEs2PBvFAM",
        "outputId": "b598d751-c16b-478f-c5c7-9a090e186369"
      },
      "outputs": [
        {
          "data": {
            "text/plain": [
              "[('year', 0.03776856683976911),\n",
              " ('clutch', 0.02979047171254766),\n",
              " ('days', 0.027647128635489175),\n",
              " ('90', 0.026833018928390996),\n",
              " ('asbestos', 0.025758058809400554),\n",
              " ('car', 0.025547778936764954),\n",
              " ('homicides', 0.024744498953434207),\n",
              " ('handgun', 0.022772863763996433),\n",
              " ('left', 0.021127821375493384),\n",
              " ('10', 0.01944761259441615)]"
            ]
          },
          "execution_count": 17,
          "metadata": {},
          "output_type": "execute_result"
        }
      ],
      "source": [
        "top_n_words[4][:10]"
      ]
    },
    {
      "cell_type": "code",
      "execution_count": null,
      "metadata": {
        "colab": {
          "base_uri": "https://localhost:8080/"
        },
        "id": "71ZQGGTcBJC0",
        "outputId": "00fcf810-bc9e-4095-af24-a8204b26a8e9"
      },
      "outputs": [
        {
          "data": {
            "text/plain": [
              "22"
            ]
          },
          "execution_count": 18,
          "metadata": {},
          "output_type": "execute_result"
        }
      ],
      "source": [
        "len(top_n_words)"
      ]
    },
    {
      "cell_type": "code",
      "execution_count": null,
      "metadata": {
        "id": "F-5vljPD9DTr"
      },
      "outputs": [],
      "source": [
        "#@title Pre-processing Coherence\n",
        "tops = []\n",
        "l = []\n",
        "for i in top_n_words.values():\n",
        "  for j in i:\n",
        "    l.append(j[0])\n",
        "  tops.append(l)\n",
        "  l = []"
      ]
    },
    {
      "cell_type": "code",
      "execution_count": null,
      "metadata": {
        "id": "QqP0XfNvnRue"
      },
      "outputs": [],
      "source": [
        "#@title Coherence\n",
        "import pandas as pd\n",
        "import re\n",
        "\n",
        "import matplotlib.pyplot as plt\n",
        "import seaborn as sns\n",
        "from sklearn.datasets import fetch_20newsgroups\n",
        "\n",
        "from gensim.models.coherencemodel import CoherenceModel\n",
        "from gensim.corpora.dictionary import Dictionary"
      ]
    },
    {
      "cell_type": "code",
      "execution_count": null,
      "metadata": {
        "id": "cK-qEKOMnSXB"
      },
      "outputs": [],
      "source": [
        "texts, _ = fetch_20newsgroups( subset='all',return_X_y=True )\n",
        "tokenizer = lambda s: re.findall( '\\w+', s.lower() )\n",
        "texts = [ tokenizer(t) for t in  texts ]"
      ]
    },
    {
      "cell_type": "code",
      "execution_count": null,
      "metadata": {
        "id": "euMqXIrEnUm8"
      },
      "outputs": [],
      "source": [
        "# Creating a dictionary with the vocabulary\n",
        "word2id = Dictionary( texts )\n",
        "\n",
        "# Coherence model\n",
        "cm = CoherenceModel(topics=tops, texts=texts, coherence='c_v', dictionary=word2id)\n",
        "coherence_per_topic = cm.get_coherence_per_topic()"
      ]
    },
    {
      "cell_type": "code",
      "execution_count": null,
      "metadata": {
        "id": "aArB_gr5C1MD"
      },
      "outputs": [],
      "source": [
        "coherence_per_topic"
      ]
    },
    {
      "cell_type": "code",
      "execution_count": null,
      "metadata": {
        "colab": {
          "base_uri": "https://localhost:8080/"
        },
        "id": "i52M0IBVDCts",
        "outputId": "255a0474-7642-4bb8-b768-b4866d2dac7a"
      },
      "outputs": [
        {
          "data": {
            "text/plain": [
              "0.5354136987964835"
            ]
          },
          "execution_count": 33,
          "metadata": {},
          "output_type": "execute_result"
        }
      ],
      "source": [
        "sum(coherence_per_topic)/len(coherence_per_topic)"
      ]
    },
    {
      "cell_type": "code",
      "execution_count": null,
      "metadata": {
        "id": "EgVJ0DLenNNs"
      },
      "outputs": [],
      "source": [
        "#@title Pre-processing Perplexity\n",
        "l = []\n",
        "perplex = []\n",
        "count = 0\n",
        "for i in top_n_words.values():\n",
        "  for j in i:\n",
        "    l.append(j[0])\n",
        "  perplex.append(l)\n",
        "  count+=1\n",
        "  l = []"
      ]
    },
    {
      "cell_type": "code",
      "execution_count": null,
      "metadata": {
        "colab": {
          "base_uri": "https://localhost:8080/"
        },
        "id": "-J1mFevWnb6J",
        "outputId": "ed6cde33-b7b5-43ca-f5f1-8698c49bb92f"
      },
      "outputs": [
        {
          "name": "stdout",
          "output_type": "stream",
          "text": [
            "Looking in indexes: https://pypi.org/simple, https://us-python.pkg.dev/colab-wheels/public/simple/\n",
            "Requirement already satisfied: nltk in /usr/local/lib/python3.9/dist-packages (3.7)\n",
            "Requirement already satisfied: regex>=2021.8.3 in /usr/local/lib/python3.9/dist-packages (from nltk) (2022.6.2)\n",
            "Requirement already satisfied: tqdm in /usr/local/lib/python3.9/dist-packages (from nltk) (4.65.0)\n",
            "Requirement already satisfied: click in /usr/local/lib/python3.9/dist-packages (from nltk) (8.1.3)\n",
            "Requirement already satisfied: joblib in /usr/local/lib/python3.9/dist-packages (from nltk) (1.2.0)\n"
          ]
        }
      ],
      "source": [
        "#@title Perplexity\n",
        "!pip install nltk"
      ]
    },
    {
      "cell_type": "code",
      "execution_count": null,
      "metadata": {
        "colab": {
          "base_uri": "https://localhost:8080/"
        },
        "id": "zYAn20zfWuZT",
        "outputId": "96f09611-dd1e-48c5-e0cd-b535dd66f3a3"
      },
      "outputs": [
        {
          "name": "stderr",
          "output_type": "stream",
          "text": [
            "[nltk_data] Downloading package punkt to /root/nltk_data...\n",
            "[nltk_data]   Unzipping tokenizers/punkt.zip.\n"
          ]
        },
        {
          "data": {
            "text/plain": [
              "True"
            ]
          },
          "execution_count": 24,
          "metadata": {},
          "output_type": "execute_result"
        }
      ],
      "source": [
        "import pandas as pd\n",
        "import re\n",
        "\n",
        "import matplotlib.pyplot as plt\n",
        "import seaborn as sns\n",
        "from sklearn.datasets import fetch_20newsgroups\n",
        "\n",
        "from gensim.models.coherencemodel import CoherenceModel\n",
        "from gensim.corpora.dictionary import Dictionary\n",
        "\n",
        "import collections, nltk\n",
        "nltk.download('punkt')\n"
      ]
    },
    {
      "cell_type": "code",
      "execution_count": null,
      "metadata": {
        "colab": {
          "base_uri": "https://localhost:8080/"
        },
        "id": "U2ZJEZeYWwXp",
        "outputId": "59191733-f05b-4031-f3b0-3b7824d4345a"
      },
      "outputs": [
        {
          "name": "stdout",
          "output_type": "stream",
          "text": [
            "<class 'list'>\n"
          ]
        }
      ],
      "source": [
        "corpus, _ = fetch_20newsgroups( subset='all',return_X_y=True )\n",
        "print(type(corpus))\n",
        "tokenizer = lambda s: re.findall( '\\w+', s.lower() )\n",
        "tokens = [ tokenizer(t) for t in  corpus ]\n",
        "\n",
        "flat = []\n",
        "for element in tokens:\n",
        "    if type(element) is list:\n",
        "        for item in element:\n",
        "            flat.append(item)\n",
        "    else:\n",
        "        flat.append(element)\n",
        "\n",
        "tokens = flat"
      ]
    },
    {
      "cell_type": "code",
      "execution_count": null,
      "metadata": {
        "id": "rasuyYYUWyfc"
      },
      "outputs": [],
      "source": [
        "def unigram(tokens):\n",
        "    model = collections.defaultdict(lambda: 0.01)\n",
        "    for f in tokens:\n",
        "        try:\n",
        "            model[f] += 1\n",
        "        except KeyError:\n",
        "            model [f] = 1\n",
        "            continue\n",
        "    N = float(sum(model.values()))\n",
        "    for word in model:\n",
        "        model[word] = model[word]/N\n",
        "    return model"
      ]
    },
    {
      "cell_type": "code",
      "execution_count": null,
      "metadata": {
        "id": "WQstaB3lW0tR"
      },
      "outputs": [],
      "source": [
        "#computes perplexity of the unigram model on a testset\n",
        "def perplexity(testset, model):\n",
        "    testset = testset.split()\n",
        "    perplexity = 1\n",
        "    N = 0\n",
        "    for word in testset:\n",
        "        N += 1\n",
        "        perplexity = perplexity * (1/model[word])\n",
        "    perplexity = pow(perplexity, 1/float(N))\n",
        "    return perplexity\n",
        "\n",
        "\n",
        "model = unigram(tokens)\n",
        "dic = {}\n",
        "# for i in perplex:\n",
        "  # for j in i:\n",
        "  #   dic[j] = perplexity(j,model)\n",
        "count=0\n",
        "for i in perplex:\n",
        "  d = {}\n",
        "  count += 1\n",
        "  for j in i:\n",
        "    d[j] = None\n",
        "  dic[count] = d\n",
        "print(dic)\n",
        "\n",
        "\n",
        "for i in dic.values():\n",
        "  print(i)\n",
        "  for key, value in i.items():\n",
        "    print(key,value)\n",
        "    i[key] = perplexity(key,model)"
      ]
    },
    {
      "cell_type": "code",
      "execution_count": null,
      "metadata": {
        "colab": {
          "base_uri": "https://localhost:8080/"
        },
        "id": "fpLcXmPS0Fnn",
        "outputId": "fce0bb64-fd28-46b4-87c3-8f3c35368b5d"
      },
      "outputs": [
        {
          "data": {
            "text/plain": [
              "{1: {'says': 3001.5935107900245,\n",
              "  'don': 601.0441693786523,\n",
              "  'people': 632.2672101456135,\n",
              "  'like': 617.5314937244787,\n",
              "  'just': 639.0824630882151,\n",
              "  'does': 879.8413563837265,\n",
              "  'use': 898.1851039613271,\n",
              "  'edu': 167.72280740366728,\n",
              "  'know': 694.8482387420306,\n",
              "  'time': 893.8946306933722,\n",
              "  'good': 1007.4359010097909,\n",
              "  'new': 940.210341946583,\n",
              "  'way': 1192.8679564306062,\n",
              "  'used': 1481.49288842957,\n",
              "  'windows': 1707.0102622173845,\n",
              "  'want': 1432.5824746737942,\n",
              "  've': 1320.4401026593562,\n",
              "  'problem': 1661.5406366689344,\n",
              "  'drive': 2277.7429792816333,\n",
              "  'think': 788.439919099673},\n",
              " 2: {'space': 2149.3853467723397,\n",
              "  'moon': 12170.90927005794,\n",
              "  'orbit': 12580.006869522083,\n",
              "  'nasa': 2964.4452601527746,\n",
              "  'shuttle': 12553.634242387387,\n",
              "  'earth': 5257.380593639395,\n",
              "  'rocket': 15883.4223759614,\n",
              "  'launch': 11362.609950401715,\n",
              "  'satellite': 16271.86508508249,\n",
              "  'comet': 46779.22873182726,\n",
              "  'lunar': 21309.594213591,\n",
              "  'spacecraft': 19070.122193437175,\n",
              "  'station': 11027.806246590684,\n",
              "  'solar': 15433.130769725542,\n",
              "  'long': 2307.586124894011,\n",
              "  'inflatable': 122183.41297615196,\n",
              "  'project': 8214.16588244497,\n",
              "  'billion': 18889.653543929868,\n",
              "  'jupiter': 26378.613585133728,\n",
              "  'mile': 41872.65974380258},\n",
              " 3: {'edu': 167.72280740366728,\n",
              "  'university': 635.1509035269592,\n",
              "  'com': 296.10869351106516,\n",
              "  'ca': 1049.8244340317087,\n",
              "  'cs': 1209.2481780047308,\n",
              "  'san': 6343.374614634598,\n",
              "  'cc': 2692.5279427525984,\n",
              "  'mit': 3740.2696235259036,\n",
              "  'science': 2863.7878680452063,\n",
              "  'virginia': 6425.04808957115,\n",
              "  'uiuc': 4412.796567424858,\n",
              "  'ohio': 6060.879009282505,\n",
              "  'ti': 14605.031755228427,\n",
              "  'lines': 304.44893108301875,\n",
              "  '1993': 2322.802886707657,\n",
              "  'todd': 30865.46605825064,\n",
              "  'zurich': 122183.41297615196,\n",
              "  'york': 6683.194462072083,\n",
              "  'ac': 2646.125766108504,\n",
              "  'buffalo': 8871.28941787708},\n",
              " 4: {'baseball': 7628.194634413838,\n",
              "  'year': 1921.138870251044,\n",
              "  'pitcher': 27342.171909781322,\n",
              "  'runs': 7899.907745229227,\n",
              "  'hit': 7171.421982923805,\n",
              "  'game': 2699.8115743216695,\n",
              "  'players': 6638.7391159313165,\n",
              "  'team': 3345.3495064056665,\n",
              "  'batting': 35641.98006047978,\n",
              "  'games': 4380.515921581559,\n",
              "  'league': 8422.11652432625,\n",
              "  'player': 8410.287875115808,\n",
              "  'best': 2657.8706130737132,\n",
              "  'hitter': 29352.52717985004,\n",
              "  'career': 27094.74263590429,\n",
              "  'bonds': 34021.98210306918,\n",
              "  'pitching': 27594.161881762164,\n",
              "  'pitchers': 44684.79270174769,\n",
              "  'years': 1995.3979060253735,\n",
              "  'braves': 19827.850302841653},\n",
              " 5: {'hockey': 6085.516478451649,\n",
              "  'game': 2699.8115743216695,\n",
              "  'team': 3345.3495064056665,\n",
              "  'nhl': 10907.285969219518,\n",
              "  'season': 7145.748940897133,\n",
              "  'playoffs': 22426.9093665451,\n",
              "  'play': 4726.252413131078,\n",
              "  'says': 3001.5935107900245,\n",
              "  'cup': 10183.855835719132,\n",
              "  'games': 4380.515921581559,\n",
              "  'goal': 10789.37148873211,\n",
              "  'rangers': 19504.931663337375,\n",
              "  'player': 8410.287875115808,\n",
              "  'players': 6638.7391159313165,\n",
              "  'win': 4616.933616518922,\n",
              "  'bruins': 25589.543480882046,\n",
              "  'wings': 16633.45204289105,\n",
              "  'leads': 20864.112992443494,\n",
              "  'playoff': 22596.16267296029,\n",
              "  'canada': 5049.037588183242},\n",
              " 6: {'year': 1921.138870251044,\n",
              "  'clutch': 16495.989283934898,\n",
              "  'days': 4775.248259552322,\n",
              "  '90': 8433.978493206021,\n",
              "  'asbestos': 166292.94834660392,\n",
              "  'car': 2794.298239374154,\n",
              "  'homicides': 85533.62476733621,\n",
              "  'handgun': 34611.92457060983,\n",
              "  'left': 3868.3271231847384,\n",
              "  '10': 1448.1728145666411,\n",
              "  'rate': 8578.97318084441,\n",
              "  'gun': 3547.4962055682176,\n",
              "  'xx': 69622.2424132218,\n",
              "  'computers': 16405.602777899803,\n",
              "  'day': 2464.2734268423615,\n",
              "  '1987': 33451.813138714075,\n",
              "  'diseases': 40458.138436330024,\n",
              "  'conventional': 47521.69724594244,\n",
              "  'pregnancy': 73018.0352391319,\n",
              "  'dealer': 15198.114438621375},\n",
              " 7: {'god': 1183.906135013811,\n",
              "  'jesus': 3126.9857963985605,\n",
              "  'bible': 4782.8763907326675,\n",
              "  'christian': 3797.1915650257174,\n",
              "  'says': 3001.5935107900245,\n",
              "  'christianity': 8410.287875115808,\n",
              "  'christ': 5570.375224380431,\n",
              "  'church': 5266.628323375526,\n",
              "  'christians': 5570.375224380431,\n",
              "  'faith': 6018.240088000329,\n",
              "  'people': 632.2672101456135,\n",
              "  'scripture': 16820.339512826064,\n",
              "  'religion': 5166.6586741798665,\n",
              "  'say': 1317.245028049038,\n",
              "  'believe': 1747.3567541271273,\n",
              "  'heaven': 13247.957058386333,\n",
              "  'word': 4104.296111720418,\n",
              "  'orthodox': 28927.14878489545,\n",
              "  'ceccarelli': 112963.76287419745,\n",
              "  'does': 879.8413563837265},\n",
              " 8: {'windows': 1707.0102622173845,\n",
              "  'work': 1577.9165456642293,\n",
              "  'external': 16867.719416245196,\n",
              "  'useless': 35855.39231160534,\n",
              "  'dos': 2820.6221685066043,\n",
              "  'run': 2799.523644097599,\n",
              "  'memory': 5066.123865247509,\n",
              "  'disk': 4455.479549974484,\n",
              "  'os': 6508.852153738771,\n",
              "  'doesn': 2284.6952396065667,\n",
              "  'text': 6129.117480845854,\n",
              "  'ndet_loop': 96568.44170232555,\n",
              "  'ati': 24949.83154852384,\n",
              "  'warning': 17256.589348898324,\n",
              "  'program': 2289.9373501291416,\n",
              "  'mapping': 54433.31578912105,\n",
              "  'unix': 4361.373238331263,\n",
              "  'use': 898.1851039613271,\n",
              "  'centris': 24743.64311376062,\n",
              "  'user': 5211.624850924889},\n",
              " 9: {'drive': 2277.7429792816333,\n",
              "  'mouse': 7365.480215447788,\n",
              "  'use': 898.1851039613271,\n",
              "  'dos': 2820.6221685066043,\n",
              "  'port': 10306.550782191713,\n",
              "  'card': 3266.87201377036,\n",
              "  'dma': 35855.39231160534,\n",
              "  'bit': 2307.586124894011,\n",
              "  'windows': 1707.0102622173845,\n",
              "  'work': 1577.9165456642293,\n",
              "  'sound': 6473.669549476446,\n",
              "  'printer': 10967.215014305979,\n",
              "  'using': 1954.3699498243172,\n",
              "  'want': 1432.5824746737942,\n",
              "  'mac': 3658.016181917769,\n",
              "  'controller': 9371.072549664648,\n",
              "  'like': 617.5314937244787,\n",
              "  'isa': 16140.29020770655,\n",
              "  'software': 2027.1458356475455,\n",
              "  'board': 6438.865248719054},\n",
              " 10: {'car': 2794.298239374154,\n",
              "  'plants': 64382.421997217585,\n",
              "  'water': 8481.762397078239,\n",
              "  'nuclear': 17306.462443169872,\n",
              "  'rear': 22942.45074886482,\n",
              "  'tires': 32542.8458777306,\n",
              "  'right': 1321.0226913157496,\n",
              "  'shifting': 75790.52107279089,\n",
              "  'gear': 31515.231145525006,\n",
              "  'transmissions': 115135.7252443993,\n",
              "  'engine': 9565.676378909613,\n",
              "  'cooling': 48680.66880709867,\n",
              "  'seats': 52066.855664387505,\n",
              "  'reactor': 187073.0731009437,\n",
              "  'just': 639.0824630882151,\n",
              "  'towers': 69622.2424132218,\n",
              "  'don': 601.0441693786523,\n",
              "  'wheel': 27342.171909781322,\n",
              "  'bike': 6720.697938251206,\n",
              "  'gears': 133041.74783295285},\n",
              " 11: {'says': 3001.5935107900245,\n",
              "  'don': 601.0441693786523,\n",
              "  'government': 1976.9525587440141,\n",
              "  'right': 1321.0226913157496,\n",
              "  'encryption': 5252.768896730035,\n",
              "  'evidence': 4065.2874521973417,\n",
              "  'people': 632.2672101456135,\n",
              "  'nixon': 59876.10308930315,\n",
              "  'abuse': 23761.791476374776,\n",
              "  'walsh': 71279.71753316518,\n",
              "  'clipper': 5044.784011896451,\n",
              "  'law': 2601.295854475526,\n",
              "  'state': 1600.6931470274624,\n",
              "  'militia': 21462.345686395496,\n",
              "  'writes': 448.7563386089494,\n",
              "  'use': 898.1851039613271,\n",
              "  'think': 788.439919099673,\n",
              "  'illinois': 10750.631173517902,\n",
              "  'foa': 352040.50969789585,\n",
              "  'free': 3080.3386144933447},\n",
              " 12: {'nsa': 13702.682020917615,\n",
              "  'clipper': 5044.784011896451,\n",
              "  'encryption': 5252.768896730035,\n",
              "  'says': 3001.5935107900245,\n",
              "  'key': 2622.9447396030705,\n",
              "  'use': 898.1851039613271,\n",
              "  'chip': 3651.3247297036037,\n",
              "  'crypto': 16183.911434721243,\n",
              "  'secure': 13517.096837455603,\n",
              "  'make': 1243.9128855073436,\n",
              "  'don': 601.0441693786523,\n",
              "  'keys': 6987.326950632089,\n",
              "  'phone': 3794.785248484615,\n",
              "  'illegal': 13103.015404392041,\n",
              "  'people': 632.2672101456135,\n",
              "  'new': 940.210341946583,\n",
              "  'government': 1976.9525587440141,\n",
              "  'computer': 1674.5504263022774,\n",
              "  'police': 6097.910479487182,\n",
              "  'law': 2601.295854475526},\n",
              " 13: {'heat': 16773.225035604624,\n",
              "  'faster': 10396.015815630297,\n",
              "  'battery': 15799.607055120465,\n",
              "  'slower': 32020.796053479535,\n",
              "  'depth': 32542.8458777306,\n",
              "  'concrete': 39393.52062338798,\n",
              "  '24': 2855.5939504156904,\n",
              "  'hours': 10712.168064902608,\n",
              "  'bit': 2307.586124894011,\n",
              "  'place': 3613.864170983402,\n",
              "  'sink': 59283.32907594503,\n",
              "  'day': 2464.2734268423615,\n",
              "  'cpu': 10887.454900749455,\n",
              "  'running': 4536.487655367161,\n",
              "  'll': 1965.2738487767372,\n",
              "  'output': 7329.41955418074,\n",
              "  'computationally': 398947.9726822922,\n",
              "  'xputimage': 117392.84591180568,\n",
              "  'generate': 29939.548372387413,\n",
              "  'signal': 15593.888362181213},\n",
              " 14: {'16': 2199.9217747036955,\n",
              "  'bits': 10887.454900749455,\n",
              "  'wiring': 31681.96957812395,\n",
              "  'display': 5438.83259004115,\n",
              "  'bit': 2307.586124894011,\n",
              "  'data': 2250.3519603313052,\n",
              "  'switch': 13547.677812631404,\n",
              "  'cci': 133041.74783295285,\n",
              "  'use': 898.1851039613271,\n",
              "  'pc': 3566.511855177281,\n",
              "  'screen': 6466.678621139305,\n",
              "  'diagram': 130150.16452860698,\n",
              "  '32': 4722.525114124658,\n",
              "  'card': 3266.87201377036,\n",
              "  'scsi': 4219.9907470428025,\n",
              "  'controller': 9371.072549664648,\n",
              "  'olvwm': 199540.45551353574,\n",
              "  'bring': 11672.694625760136,\n",
              "  'board': 6438.865248719054,\n",
              "  'works': 4872.384333700464},\n",
              " 15: {'car': 2794.298239374154,\n",
              "  'cars': 8398.492405381701,\n",
              "  'miles': 11277.017513721412,\n",
              "  'new': 940.210341946583,\n",
              "  'engine': 9565.676378909613,\n",
              "  'used': 1481.49288842957,\n",
              "  'bike': 6720.697938251206,\n",
              "  'models': 17157.7005528816,\n",
              "  'mustang': 40458.138436330024,\n",
              "  'power': 2487.8206031388345,\n",
              "  '100': 4809.767849223064,\n",
              "  'nissan': 62370.680866172355,\n",
              "  'ford': 15198.114438621375,\n",
              "  'v6': 35222.687312282855,\n",
              "  'cheaper': 22511.217886399787,\n",
              "  'looking': 3421.814201039541,\n",
              "  'reliable': 24440.6720948582,\n",
              "  'sale': 4775.248259552322,\n",
              "  'toyota': 38383.49509621952,\n",
              "  'good': 1007.4359010097909},\n",
              " 16: {'sale': 4775.248259552322,\n",
              "  'shipping': 13045.922899198726,\n",
              "  '00': 2329.127101785371,\n",
              "  'sell': 7817.403258392457,\n",
              "  'obo': 65082.15487404856,\n",
              "  '100': 4809.767849223064,\n",
              "  'asking': 9255.203273459772,\n",
              "  'price': 4468.779389677097,\n",
              "  '50': 3362.2546027036383,\n",
              "  'paid': 15634.602412368366,\n",
              "  'card': 3266.87201377036,\n",
              "  '125': 43389.67516818497,\n",
              "  'selling': 17108.67995189054,\n",
              "  'cost': 5681.358877013697,\n",
              "  'genesis': 30241.9527799667,\n",
              "  'purchase': 18712.568575860776,\n",
              "  'cd': 7696.827894193142,\n",
              "  'offer': 8180.501728065474,\n",
              "  'stereo': 29497.113787307062,\n",
              "  '300': 12449.24028598409},\n",
              " 17: {'fbi': 5570.375224380431,\n",
              "  'started': 5757.8379726745,\n",
              "  'says': 3001.5935107900245,\n",
              "  'waco': 10579.687761631785,\n",
              "  'said': 1498.9221729009955,\n",
              "  'compound': 14056.498837964382,\n",
              "  'batf': 9642.69346703146,\n",
              "  'cult': 21010.522683278505,\n",
              "  'government': 1976.9525587440141,\n",
              "  'people': 632.2672101456135,\n",
              "  'escaped': 54932.65819613987,\n",
              "  'set': 2806.082947109529,\n",
              "  'deliberately': 65797.26480563903,\n",
              "  'survivors': 25810.133485458417,\n",
              "  'president': 4358.199045102442,\n",
              "  'clinton': 6048.634932941291,\n",
              "  'children': 3963.0505886534215,\n",
              "  'burning': 27850.83982122323,\n",
              "  'press': 6343.374614634598,\n",
              "  'koresh': 8092.065066635867},\n",
              " 18: {'government': 1976.9525587440141,\n",
              "  'says': 3001.5935107900245,\n",
              "  'armenians': 6160.645538586236,\n",
              "  'armenian': 5225.267728869038,\n",
              "  'soviet': 10967.215014305979,\n",
              "  'people': 632.2672101456135,\n",
              "  'armenia': 9865.091299914675,\n",
              "  'turkish': 5724.81053714707,\n",
              "  'genocide': 11810.830299128631,\n",
              "  'turks': 11362.609950401715,\n",
              "  'mob': 65082.15487404856,\n",
              "  'mwilson': 153504.46218818784,\n",
              "  'war': 4876.352041075567,\n",
              "  'israel': 3721.6729976576944,\n",
              "  'children': 3963.0505886534215,\n",
              "  'make': 1243.9128855073436,\n",
              "  'president': 4358.199045102442,\n",
              "  'crime': 9184.228876798219,\n",
              "  'azerbaijan': 18200.69016127536,\n",
              "  'like': 617.5314937244787},\n",
              " 19: {'says': 3001.5935107900245,\n",
              "  'people': 632.2672101456135,\n",
              "  'person': 3445.4399399089803,\n",
              "  'don': 601.0441693786523,\n",
              "  'hate': 11952.274545340826,\n",
              "  'writes': 448.7563386089494,\n",
              "  'bad': 3651.3247297036037,\n",
              "  'muslims': 10183.855835719132,\n",
              "  'goverment': 90716.69550009404,\n",
              "  'phigs': 53461.379072950695,\n",
              "  'like': 617.5314937244787,\n",
              "  'bosnian': 33639.73411584297,\n",
              "  'make': 1243.9128855073436,\n",
              "  'policies': 36289.97678905041,\n",
              "  'cfaehl': 374029.2985609749,\n",
              "  'god': 1183.906135013811,\n",
              "  'turkish': 5724.81053714707,\n",
              "  'post': 3006.113960251809,\n",
              "  'believe': 1747.3567541271273,\n",
              "  'self': 6501.785072866969},\n",
              " 20: {'mac': 3658.016181917769,\n",
              "  'iisi': 41295.1456448604,\n",
              "  'drive': 2277.7429792816333,\n",
              "  'card': 3266.87201377036,\n",
              "  'video': 5322.805192808248,\n",
              "  '16': 2199.9217747036955,\n",
              "  'apple': 4093.0745996002806,\n",
              "  '256': 16227.769084743522,\n",
              "  'vga': 12713.549754699916,\n",
              "  'ram': 8780.236462751584,\n",
              "  'edu': 167.72280740366728,\n",
              "  'vram': 37423.967689276964,\n",
              "  'chip': 3651.3247297036037,\n",
              "  'mode': 7475.823110774156,\n",
              "  'new': 940.210341946583,\n",
              "  'cache': 21084.500792089035,\n",
              "  'color': 4809.767849223064,\n",
              "  'daystar': 299260.8230865171,\n",
              "  'graphics': 3451.3974386091186,\n",
              "  'macintosh': 15883.4223759614},\n",
              " 21: {'does': 879.8413563837265,\n",
              "  '3d': 11171.823417401181,\n",
              "  'program': 2289.9373501291416,\n",
              "  'available': 2400.0741760398582,\n",
              "  'use': 898.1851039613271,\n",
              "  'good': 1007.4359010097909,\n",
              "  'files': 3358.483166084995,\n",
              "  'windows': 1707.0102622173845,\n",
              "  'bezier': 161799.75871281297,\n",
              "  'mac': 3658.016181917769,\n",
              "  'help': 1875.411937313446,\n",
              "  'need': 1515.6147592542684,\n",
              "  'graphics': 3451.3974386091186,\n",
              "  'information': 1892.6011832962622,\n",
              "  'point': 1949.9151972677412,\n",
              "  'pixel': 20093.987013728423,\n",
              "  'expose': 52066.855664387505,\n",
              "  'package': 6290.069505531672,\n",
              "  'number': 2153.249743784167,\n",
              "  'appreciate': 14023.580407862126},\n",
              " 22: {'windows': 1707.0102622173845,\n",
              "  'ftp': 3916.396275996368,\n",
              "  'program': 2289.9373501291416,\n",
              "  'does': 879.8413563837265,\n",
              "  'file': 1879.5324151403186,\n",
              "  'know': 694.8482387420306,\n",
              "  'files': 3358.483166084995,\n",
              "  'graphics': 3451.3974386091186,\n",
              "  'gif': 8832.036503829158,\n",
              "  'looking': 3421.814201039541,\n",
              "  'software': 2027.1458356475455,\n",
              "  'window': 3802.0133649698773,\n",
              "  'dos': 2820.6221685066043,\n",
              "  'need': 1515.6147592542684,\n",
              "  'like': 617.5314937244787,\n",
              "  'format': 6558.7551833618545,\n",
              "  'use': 898.1851039613271,\n",
              "  'image': 3339.752187640452,\n",
              "  'using': 1954.3699498243172,\n",
              "  'convert': 14359.869235656717}}"
            ]
          },
          "execution_count": 28,
          "metadata": {},
          "output_type": "execute_result"
        }
      ],
      "source": [
        "dic"
      ]
    }
  ],
  "metadata": {
    "colab": {
      "provenance": [],
      "include_colab_link": true
    },
    "kernelspec": {
      "display_name": "Python 3",
      "name": "python3"
    },
    "language_info": {
      "name": "python"
    },
    "widgets": {
      "application/vnd.jupyter.widget-state+json": {
        "eec48668786c4c4c9aeaf22a9a2b0a41": {
          "model_module": "@jupyter-widgets/controls",
          "model_name": "HBoxModel",
          "model_module_version": "1.5.0",
          "state": {
            "_dom_classes": [],
            "_model_module": "@jupyter-widgets/controls",
            "_model_module_version": "1.5.0",
            "_model_name": "HBoxModel",
            "_view_count": null,
            "_view_module": "@jupyter-widgets/controls",
            "_view_module_version": "1.5.0",
            "_view_name": "HBoxView",
            "box_style": "",
            "children": [
              "IPY_MODEL_0e31bc3179104f74905f8dbefe12e3c1",
              "IPY_MODEL_fe5eff99006347528a09533788cbcc5b",
              "IPY_MODEL_daf8b6de3e654ae186b7643935b609e6"
            ],
            "layout": "IPY_MODEL_13f10219236d427780fd33d109870e26"
          }
        },
        "0e31bc3179104f74905f8dbefe12e3c1": {
          "model_module": "@jupyter-widgets/controls",
          "model_name": "HTMLModel",
          "model_module_version": "1.5.0",
          "state": {
            "_dom_classes": [],
            "_model_module": "@jupyter-widgets/controls",
            "_model_module_version": "1.5.0",
            "_model_name": "HTMLModel",
            "_view_count": null,
            "_view_module": "@jupyter-widgets/controls",
            "_view_module_version": "1.5.0",
            "_view_name": "HTMLView",
            "description": "",
            "description_tooltip": null,
            "layout": "IPY_MODEL_4ef2fc105fd84234949d02e60f076101",
            "placeholder": "​",
            "style": "IPY_MODEL_17d7b872329e41b1924dec38de4a3272",
            "value": "Batches:  41%"
          }
        },
        "fe5eff99006347528a09533788cbcc5b": {
          "model_module": "@jupyter-widgets/controls",
          "model_name": "FloatProgressModel",
          "model_module_version": "1.5.0",
          "state": {
            "_dom_classes": [],
            "_model_module": "@jupyter-widgets/controls",
            "_model_module_version": "1.5.0",
            "_model_name": "FloatProgressModel",
            "_view_count": null,
            "_view_module": "@jupyter-widgets/controls",
            "_view_module_version": "1.5.0",
            "_view_name": "ProgressView",
            "bar_style": "danger",
            "description": "",
            "description_tooltip": null,
            "layout": "IPY_MODEL_30b361f522214e2ea4232ceb6f4f1c21",
            "max": 32,
            "min": 0,
            "orientation": "horizontal",
            "style": "IPY_MODEL_8508b98fb073467b8580aab360e8a0fa",
            "value": 13
          }
        },
        "daf8b6de3e654ae186b7643935b609e6": {
          "model_module": "@jupyter-widgets/controls",
          "model_name": "HTMLModel",
          "model_module_version": "1.5.0",
          "state": {
            "_dom_classes": [],
            "_model_module": "@jupyter-widgets/controls",
            "_model_module_version": "1.5.0",
            "_model_name": "HTMLModel",
            "_view_count": null,
            "_view_module": "@jupyter-widgets/controls",
            "_view_module_version": "1.5.0",
            "_view_name": "HTMLView",
            "description": "",
            "description_tooltip": null,
            "layout": "IPY_MODEL_e080b6d4a7354c58a6bec74d8e87e393",
            "placeholder": "​",
            "style": "IPY_MODEL_e1aaeecf789c42c89fc99028a8ed8ef6",
            "value": " 13/32 [00:38&lt;00:45,  2.38s/it]"
          }
        },
        "13f10219236d427780fd33d109870e26": {
          "model_module": "@jupyter-widgets/base",
          "model_name": "LayoutModel",
          "model_module_version": "1.2.0",
          "state": {
            "_model_module": "@jupyter-widgets/base",
            "_model_module_version": "1.2.0",
            "_model_name": "LayoutModel",
            "_view_count": null,
            "_view_module": "@jupyter-widgets/base",
            "_view_module_version": "1.2.0",
            "_view_name": "LayoutView",
            "align_content": null,
            "align_items": null,
            "align_self": null,
            "border": null,
            "bottom": null,
            "display": null,
            "flex": null,
            "flex_flow": null,
            "grid_area": null,
            "grid_auto_columns": null,
            "grid_auto_flow": null,
            "grid_auto_rows": null,
            "grid_column": null,
            "grid_gap": null,
            "grid_row": null,
            "grid_template_areas": null,
            "grid_template_columns": null,
            "grid_template_rows": null,
            "height": null,
            "justify_content": null,
            "justify_items": null,
            "left": null,
            "margin": null,
            "max_height": null,
            "max_width": null,
            "min_height": null,
            "min_width": null,
            "object_fit": null,
            "object_position": null,
            "order": null,
            "overflow": null,
            "overflow_x": null,
            "overflow_y": null,
            "padding": null,
            "right": null,
            "top": null,
            "visibility": null,
            "width": null
          }
        },
        "4ef2fc105fd84234949d02e60f076101": {
          "model_module": "@jupyter-widgets/base",
          "model_name": "LayoutModel",
          "model_module_version": "1.2.0",
          "state": {
            "_model_module": "@jupyter-widgets/base",
            "_model_module_version": "1.2.0",
            "_model_name": "LayoutModel",
            "_view_count": null,
            "_view_module": "@jupyter-widgets/base",
            "_view_module_version": "1.2.0",
            "_view_name": "LayoutView",
            "align_content": null,
            "align_items": null,
            "align_self": null,
            "border": null,
            "bottom": null,
            "display": null,
            "flex": null,
            "flex_flow": null,
            "grid_area": null,
            "grid_auto_columns": null,
            "grid_auto_flow": null,
            "grid_auto_rows": null,
            "grid_column": null,
            "grid_gap": null,
            "grid_row": null,
            "grid_template_areas": null,
            "grid_template_columns": null,
            "grid_template_rows": null,
            "height": null,
            "justify_content": null,
            "justify_items": null,
            "left": null,
            "margin": null,
            "max_height": null,
            "max_width": null,
            "min_height": null,
            "min_width": null,
            "object_fit": null,
            "object_position": null,
            "order": null,
            "overflow": null,
            "overflow_x": null,
            "overflow_y": null,
            "padding": null,
            "right": null,
            "top": null,
            "visibility": null,
            "width": null
          }
        },
        "17d7b872329e41b1924dec38de4a3272": {
          "model_module": "@jupyter-widgets/controls",
          "model_name": "DescriptionStyleModel",
          "model_module_version": "1.5.0",
          "state": {
            "_model_module": "@jupyter-widgets/controls",
            "_model_module_version": "1.5.0",
            "_model_name": "DescriptionStyleModel",
            "_view_count": null,
            "_view_module": "@jupyter-widgets/base",
            "_view_module_version": "1.2.0",
            "_view_name": "StyleView",
            "description_width": ""
          }
        },
        "30b361f522214e2ea4232ceb6f4f1c21": {
          "model_module": "@jupyter-widgets/base",
          "model_name": "LayoutModel",
          "model_module_version": "1.2.0",
          "state": {
            "_model_module": "@jupyter-widgets/base",
            "_model_module_version": "1.2.0",
            "_model_name": "LayoutModel",
            "_view_count": null,
            "_view_module": "@jupyter-widgets/base",
            "_view_module_version": "1.2.0",
            "_view_name": "LayoutView",
            "align_content": null,
            "align_items": null,
            "align_self": null,
            "border": null,
            "bottom": null,
            "display": null,
            "flex": null,
            "flex_flow": null,
            "grid_area": null,
            "grid_auto_columns": null,
            "grid_auto_flow": null,
            "grid_auto_rows": null,
            "grid_column": null,
            "grid_gap": null,
            "grid_row": null,
            "grid_template_areas": null,
            "grid_template_columns": null,
            "grid_template_rows": null,
            "height": null,
            "justify_content": null,
            "justify_items": null,
            "left": null,
            "margin": null,
            "max_height": null,
            "max_width": null,
            "min_height": null,
            "min_width": null,
            "object_fit": null,
            "object_position": null,
            "order": null,
            "overflow": null,
            "overflow_x": null,
            "overflow_y": null,
            "padding": null,
            "right": null,
            "top": null,
            "visibility": null,
            "width": null
          }
        },
        "8508b98fb073467b8580aab360e8a0fa": {
          "model_module": "@jupyter-widgets/controls",
          "model_name": "ProgressStyleModel",
          "model_module_version": "1.5.0",
          "state": {
            "_model_module": "@jupyter-widgets/controls",
            "_model_module_version": "1.5.0",
            "_model_name": "ProgressStyleModel",
            "_view_count": null,
            "_view_module": "@jupyter-widgets/base",
            "_view_module_version": "1.2.0",
            "_view_name": "StyleView",
            "bar_color": null,
            "description_width": ""
          }
        },
        "e080b6d4a7354c58a6bec74d8e87e393": {
          "model_module": "@jupyter-widgets/base",
          "model_name": "LayoutModel",
          "model_module_version": "1.2.0",
          "state": {
            "_model_module": "@jupyter-widgets/base",
            "_model_module_version": "1.2.0",
            "_model_name": "LayoutModel",
            "_view_count": null,
            "_view_module": "@jupyter-widgets/base",
            "_view_module_version": "1.2.0",
            "_view_name": "LayoutView",
            "align_content": null,
            "align_items": null,
            "align_self": null,
            "border": null,
            "bottom": null,
            "display": null,
            "flex": null,
            "flex_flow": null,
            "grid_area": null,
            "grid_auto_columns": null,
            "grid_auto_flow": null,
            "grid_auto_rows": null,
            "grid_column": null,
            "grid_gap": null,
            "grid_row": null,
            "grid_template_areas": null,
            "grid_template_columns": null,
            "grid_template_rows": null,
            "height": null,
            "justify_content": null,
            "justify_items": null,
            "left": null,
            "margin": null,
            "max_height": null,
            "max_width": null,
            "min_height": null,
            "min_width": null,
            "object_fit": null,
            "object_position": null,
            "order": null,
            "overflow": null,
            "overflow_x": null,
            "overflow_y": null,
            "padding": null,
            "right": null,
            "top": null,
            "visibility": null,
            "width": null
          }
        },
        "e1aaeecf789c42c89fc99028a8ed8ef6": {
          "model_module": "@jupyter-widgets/controls",
          "model_name": "DescriptionStyleModel",
          "model_module_version": "1.5.0",
          "state": {
            "_model_module": "@jupyter-widgets/controls",
            "_model_module_version": "1.5.0",
            "_model_name": "DescriptionStyleModel",
            "_view_count": null,
            "_view_module": "@jupyter-widgets/base",
            "_view_module_version": "1.2.0",
            "_view_name": "StyleView",
            "description_width": ""
          }
        }
      }
    }
  },
  "nbformat": 4,
  "nbformat_minor": 0
}